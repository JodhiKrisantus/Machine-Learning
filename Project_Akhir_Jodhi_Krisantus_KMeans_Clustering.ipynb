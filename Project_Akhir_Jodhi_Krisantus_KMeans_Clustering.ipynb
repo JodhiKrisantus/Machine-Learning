{
  "nbformat": 4,
  "nbformat_minor": 0,
  "metadata": {
    "colab": {
      "provenance": [],
      "include_colab_link": true
    },
    "kernelspec": {
      "name": "python3",
      "display_name": "Python 3"
    },
    "language_info": {
      "name": "python"
    }
  },
  "cells": [
    {
      "cell_type": "markdown",
      "metadata": {
        "id": "view-in-github",
        "colab_type": "text"
      },
      "source": [
        "<a href=\"https://colab.research.google.com/github/JodhiKrisantus/Machine-Learning/blob/main/Project_Akhir_Jodhi_Krisantus_KMeans_Clustering.ipynb\" target=\"_parent\"><img src=\"https://colab.research.google.com/assets/colab-badge.svg\" alt=\"Open In Colab\"/></a>"
      ]
    },
    {
      "cell_type": "code",
      "metadata": {
        "id": "ly98hHH-uWau"
      },
      "source": [
        "import pandas as pd\n",
        "import matplotlib.pyplot as plt\n",
        "import numpy as np\n",
        "import seaborn as sns\n",
        "from sklearn.preprocessing import StandardScaler\n",
        "from sklearn.cluster import KMeans\n"
      ],
      "execution_count": null,
      "outputs": []
    },
    {
      "cell_type": "markdown",
      "metadata": {
        "id": "m1lX5zbqzLDj"
      },
      "source": [
        "#PERSIAPAN DATA"
      ]
    },
    {
      "cell_type": "code",
      "metadata": {
        "colab": {
          "base_uri": "https://localhost:8080/",
          "height": 422
        },
        "id": "MTb8aarMwAU4",
        "outputId": "c796eb62-e9d6-4eb7-ea0a-6d429977686e"
      },
      "source": [
        "df=pd.read_csv('Data_Negara_HELP.csv')\n",
        "df"
      ],
      "execution_count": null,
      "outputs": [
        {
          "output_type": "execute_result",
          "data": {
            "text/html": [
              "<div>\n",
              "<style scoped>\n",
              "    .dataframe tbody tr th:only-of-type {\n",
              "        vertical-align: middle;\n",
              "    }\n",
              "\n",
              "    .dataframe tbody tr th {\n",
              "        vertical-align: top;\n",
              "    }\n",
              "\n",
              "    .dataframe thead th {\n",
              "        text-align: right;\n",
              "    }\n",
              "</style>\n",
              "<table border=\"1\" class=\"dataframe\">\n",
              "  <thead>\n",
              "    <tr style=\"text-align: right;\">\n",
              "      <th></th>\n",
              "      <th>Negara</th>\n",
              "      <th>Kematian_anak</th>\n",
              "      <th>Ekspor</th>\n",
              "      <th>Kesehatan</th>\n",
              "      <th>Impor</th>\n",
              "      <th>Pendapatan</th>\n",
              "      <th>Inflasi</th>\n",
              "      <th>Harapan_hidup</th>\n",
              "      <th>Jumlah_fertiliti</th>\n",
              "      <th>GDPperkapita</th>\n",
              "    </tr>\n",
              "  </thead>\n",
              "  <tbody>\n",
              "    <tr>\n",
              "      <th>0</th>\n",
              "      <td>Afghanistan</td>\n",
              "      <td>90.2</td>\n",
              "      <td>10.0</td>\n",
              "      <td>7.58</td>\n",
              "      <td>44.9</td>\n",
              "      <td>1610</td>\n",
              "      <td>9.44</td>\n",
              "      <td>56.2</td>\n",
              "      <td>5.82</td>\n",
              "      <td>553</td>\n",
              "    </tr>\n",
              "    <tr>\n",
              "      <th>1</th>\n",
              "      <td>Albania</td>\n",
              "      <td>16.6</td>\n",
              "      <td>28.0</td>\n",
              "      <td>6.55</td>\n",
              "      <td>48.6</td>\n",
              "      <td>9930</td>\n",
              "      <td>4.49</td>\n",
              "      <td>76.3</td>\n",
              "      <td>1.65</td>\n",
              "      <td>4090</td>\n",
              "    </tr>\n",
              "    <tr>\n",
              "      <th>2</th>\n",
              "      <td>Algeria</td>\n",
              "      <td>27.3</td>\n",
              "      <td>38.4</td>\n",
              "      <td>4.17</td>\n",
              "      <td>31.4</td>\n",
              "      <td>12900</td>\n",
              "      <td>16.10</td>\n",
              "      <td>76.5</td>\n",
              "      <td>2.89</td>\n",
              "      <td>4460</td>\n",
              "    </tr>\n",
              "    <tr>\n",
              "      <th>3</th>\n",
              "      <td>Angola</td>\n",
              "      <td>119.0</td>\n",
              "      <td>62.3</td>\n",
              "      <td>2.85</td>\n",
              "      <td>42.9</td>\n",
              "      <td>5900</td>\n",
              "      <td>22.40</td>\n",
              "      <td>60.1</td>\n",
              "      <td>6.16</td>\n",
              "      <td>3530</td>\n",
              "    </tr>\n",
              "    <tr>\n",
              "      <th>4</th>\n",
              "      <td>Antigua and Barbuda</td>\n",
              "      <td>10.3</td>\n",
              "      <td>45.5</td>\n",
              "      <td>6.03</td>\n",
              "      <td>58.9</td>\n",
              "      <td>19100</td>\n",
              "      <td>1.44</td>\n",
              "      <td>76.8</td>\n",
              "      <td>2.13</td>\n",
              "      <td>12200</td>\n",
              "    </tr>\n",
              "    <tr>\n",
              "      <th>...</th>\n",
              "      <td>...</td>\n",
              "      <td>...</td>\n",
              "      <td>...</td>\n",
              "      <td>...</td>\n",
              "      <td>...</td>\n",
              "      <td>...</td>\n",
              "      <td>...</td>\n",
              "      <td>...</td>\n",
              "      <td>...</td>\n",
              "      <td>...</td>\n",
              "    </tr>\n",
              "    <tr>\n",
              "      <th>162</th>\n",
              "      <td>Vanuatu</td>\n",
              "      <td>29.2</td>\n",
              "      <td>46.6</td>\n",
              "      <td>5.25</td>\n",
              "      <td>52.7</td>\n",
              "      <td>2950</td>\n",
              "      <td>2.62</td>\n",
              "      <td>63.0</td>\n",
              "      <td>3.50</td>\n",
              "      <td>2970</td>\n",
              "    </tr>\n",
              "    <tr>\n",
              "      <th>163</th>\n",
              "      <td>Venezuela</td>\n",
              "      <td>17.1</td>\n",
              "      <td>28.5</td>\n",
              "      <td>4.91</td>\n",
              "      <td>17.6</td>\n",
              "      <td>16500</td>\n",
              "      <td>45.90</td>\n",
              "      <td>75.4</td>\n",
              "      <td>2.47</td>\n",
              "      <td>13500</td>\n",
              "    </tr>\n",
              "    <tr>\n",
              "      <th>164</th>\n",
              "      <td>Vietnam</td>\n",
              "      <td>23.3</td>\n",
              "      <td>72.0</td>\n",
              "      <td>6.84</td>\n",
              "      <td>80.2</td>\n",
              "      <td>4490</td>\n",
              "      <td>12.10</td>\n",
              "      <td>73.1</td>\n",
              "      <td>1.95</td>\n",
              "      <td>1310</td>\n",
              "    </tr>\n",
              "    <tr>\n",
              "      <th>165</th>\n",
              "      <td>Yemen</td>\n",
              "      <td>56.3</td>\n",
              "      <td>30.0</td>\n",
              "      <td>5.18</td>\n",
              "      <td>34.4</td>\n",
              "      <td>4480</td>\n",
              "      <td>23.60</td>\n",
              "      <td>67.5</td>\n",
              "      <td>4.67</td>\n",
              "      <td>1310</td>\n",
              "    </tr>\n",
              "    <tr>\n",
              "      <th>166</th>\n",
              "      <td>Zambia</td>\n",
              "      <td>83.1</td>\n",
              "      <td>37.0</td>\n",
              "      <td>5.89</td>\n",
              "      <td>30.9</td>\n",
              "      <td>3280</td>\n",
              "      <td>14.00</td>\n",
              "      <td>52.0</td>\n",
              "      <td>5.40</td>\n",
              "      <td>1460</td>\n",
              "    </tr>\n",
              "  </tbody>\n",
              "</table>\n",
              "<p>167 rows × 10 columns</p>\n",
              "</div>"
            ],
            "text/plain": [
              "                  Negara  Kematian_anak  ...  Jumlah_fertiliti  GDPperkapita\n",
              "0            Afghanistan           90.2  ...              5.82           553\n",
              "1                Albania           16.6  ...              1.65          4090\n",
              "2                Algeria           27.3  ...              2.89          4460\n",
              "3                 Angola          119.0  ...              6.16          3530\n",
              "4    Antigua and Barbuda           10.3  ...              2.13         12200\n",
              "..                   ...            ...  ...               ...           ...\n",
              "162              Vanuatu           29.2  ...              3.50          2970\n",
              "163            Venezuela           17.1  ...              2.47         13500\n",
              "164              Vietnam           23.3  ...              1.95          1310\n",
              "165                Yemen           56.3  ...              4.67          1310\n",
              "166               Zambia           83.1  ...              5.40          1460\n",
              "\n",
              "[167 rows x 10 columns]"
            ]
          },
          "metadata": {},
          "execution_count": 2
        }
      ]
    },
    {
      "cell_type": "code",
      "metadata": {
        "colab": {
          "base_uri": "https://localhost:8080/"
        },
        "id": "iKXqUxFsN15P",
        "outputId": "eaa7ee35-332e-4f41-81bf-f36d2aca17ca"
      },
      "source": [
        "df.shape#Memastikan berapa baris berapa kolom"
      ],
      "execution_count": null,
      "outputs": [
        {
          "output_type": "execute_result",
          "data": {
            "text/plain": [
              "(167, 10)"
            ]
          },
          "metadata": {},
          "execution_count": 3
        }
      ]
    },
    {
      "cell_type": "code",
      "metadata": {
        "colab": {
          "base_uri": "https://localhost:8080/"
        },
        "id": "aOCy1LPnwtL5",
        "outputId": "443fefc5-5967-498d-9c62-bd424be1c617"
      },
      "source": [
        "df.info()"
      ],
      "execution_count": null,
      "outputs": [
        {
          "output_type": "stream",
          "name": "stdout",
          "text": [
            "<class 'pandas.core.frame.DataFrame'>\n",
            "RangeIndex: 167 entries, 0 to 166\n",
            "Data columns (total 10 columns):\n",
            " #   Column            Non-Null Count  Dtype  \n",
            "---  ------            --------------  -----  \n",
            " 0   Negara            167 non-null    object \n",
            " 1   Kematian_anak     167 non-null    float64\n",
            " 2   Ekspor            167 non-null    float64\n",
            " 3   Kesehatan         167 non-null    float64\n",
            " 4   Impor             167 non-null    float64\n",
            " 5   Pendapatan        167 non-null    int64  \n",
            " 6   Inflasi           167 non-null    float64\n",
            " 7   Harapan_hidup     167 non-null    float64\n",
            " 8   Jumlah_fertiliti  167 non-null    float64\n",
            " 9   GDPperkapita      167 non-null    int64  \n",
            "dtypes: float64(7), int64(2), object(1)\n",
            "memory usage: 13.2+ KB\n"
          ]
        }
      ]
    },
    {
      "cell_type": "code",
      "metadata": {
        "colab": {
          "base_uri": "https://localhost:8080/",
          "height": 299
        },
        "id": "q0YkIOFuODZ3",
        "outputId": "6414cd7a-e6c4-47a8-911a-951b6ab8f93e"
      },
      "source": [
        "df.describe()"
      ],
      "execution_count": null,
      "outputs": [
        {
          "output_type": "execute_result",
          "data": {
            "text/html": [
              "<div>\n",
              "<style scoped>\n",
              "    .dataframe tbody tr th:only-of-type {\n",
              "        vertical-align: middle;\n",
              "    }\n",
              "\n",
              "    .dataframe tbody tr th {\n",
              "        vertical-align: top;\n",
              "    }\n",
              "\n",
              "    .dataframe thead th {\n",
              "        text-align: right;\n",
              "    }\n",
              "</style>\n",
              "<table border=\"1\" class=\"dataframe\">\n",
              "  <thead>\n",
              "    <tr style=\"text-align: right;\">\n",
              "      <th></th>\n",
              "      <th>Kematian_anak</th>\n",
              "      <th>Ekspor</th>\n",
              "      <th>Kesehatan</th>\n",
              "      <th>Impor</th>\n",
              "      <th>Pendapatan</th>\n",
              "      <th>Inflasi</th>\n",
              "      <th>Harapan_hidup</th>\n",
              "      <th>Jumlah_fertiliti</th>\n",
              "      <th>GDPperkapita</th>\n",
              "    </tr>\n",
              "  </thead>\n",
              "  <tbody>\n",
              "    <tr>\n",
              "      <th>count</th>\n",
              "      <td>167.000000</td>\n",
              "      <td>167.000000</td>\n",
              "      <td>167.000000</td>\n",
              "      <td>167.000000</td>\n",
              "      <td>167.000000</td>\n",
              "      <td>167.000000</td>\n",
              "      <td>167.000000</td>\n",
              "      <td>167.000000</td>\n",
              "      <td>167.000000</td>\n",
              "    </tr>\n",
              "    <tr>\n",
              "      <th>mean</th>\n",
              "      <td>38.270060</td>\n",
              "      <td>41.108976</td>\n",
              "      <td>6.815689</td>\n",
              "      <td>46.890215</td>\n",
              "      <td>17144.688623</td>\n",
              "      <td>7.781832</td>\n",
              "      <td>70.555689</td>\n",
              "      <td>2.947964</td>\n",
              "      <td>12964.155689</td>\n",
              "    </tr>\n",
              "    <tr>\n",
              "      <th>std</th>\n",
              "      <td>40.328931</td>\n",
              "      <td>27.412010</td>\n",
              "      <td>2.746837</td>\n",
              "      <td>24.209589</td>\n",
              "      <td>19278.067698</td>\n",
              "      <td>10.570704</td>\n",
              "      <td>8.893172</td>\n",
              "      <td>1.513848</td>\n",
              "      <td>18328.704809</td>\n",
              "    </tr>\n",
              "    <tr>\n",
              "      <th>min</th>\n",
              "      <td>2.600000</td>\n",
              "      <td>0.109000</td>\n",
              "      <td>1.810000</td>\n",
              "      <td>0.065900</td>\n",
              "      <td>609.000000</td>\n",
              "      <td>-4.210000</td>\n",
              "      <td>32.100000</td>\n",
              "      <td>1.150000</td>\n",
              "      <td>231.000000</td>\n",
              "    </tr>\n",
              "    <tr>\n",
              "      <th>25%</th>\n",
              "      <td>8.250000</td>\n",
              "      <td>23.800000</td>\n",
              "      <td>4.920000</td>\n",
              "      <td>30.200000</td>\n",
              "      <td>3355.000000</td>\n",
              "      <td>1.810000</td>\n",
              "      <td>65.300000</td>\n",
              "      <td>1.795000</td>\n",
              "      <td>1330.000000</td>\n",
              "    </tr>\n",
              "    <tr>\n",
              "      <th>50%</th>\n",
              "      <td>19.300000</td>\n",
              "      <td>35.000000</td>\n",
              "      <td>6.320000</td>\n",
              "      <td>43.300000</td>\n",
              "      <td>9960.000000</td>\n",
              "      <td>5.390000</td>\n",
              "      <td>73.100000</td>\n",
              "      <td>2.410000</td>\n",
              "      <td>4660.000000</td>\n",
              "    </tr>\n",
              "    <tr>\n",
              "      <th>75%</th>\n",
              "      <td>62.100000</td>\n",
              "      <td>51.350000</td>\n",
              "      <td>8.600000</td>\n",
              "      <td>58.750000</td>\n",
              "      <td>22800.000000</td>\n",
              "      <td>10.750000</td>\n",
              "      <td>76.800000</td>\n",
              "      <td>3.880000</td>\n",
              "      <td>14050.000000</td>\n",
              "    </tr>\n",
              "    <tr>\n",
              "      <th>max</th>\n",
              "      <td>208.000000</td>\n",
              "      <td>200.000000</td>\n",
              "      <td>17.900000</td>\n",
              "      <td>174.000000</td>\n",
              "      <td>125000.000000</td>\n",
              "      <td>104.000000</td>\n",
              "      <td>82.800000</td>\n",
              "      <td>7.490000</td>\n",
              "      <td>105000.000000</td>\n",
              "    </tr>\n",
              "  </tbody>\n",
              "</table>\n",
              "</div>"
            ],
            "text/plain": [
              "       Kematian_anak      Ekspor  ...  Jumlah_fertiliti   GDPperkapita\n",
              "count     167.000000  167.000000  ...        167.000000     167.000000\n",
              "mean       38.270060   41.108976  ...          2.947964   12964.155689\n",
              "std        40.328931   27.412010  ...          1.513848   18328.704809\n",
              "min         2.600000    0.109000  ...          1.150000     231.000000\n",
              "25%         8.250000   23.800000  ...          1.795000    1330.000000\n",
              "50%        19.300000   35.000000  ...          2.410000    4660.000000\n",
              "75%        62.100000   51.350000  ...          3.880000   14050.000000\n",
              "max       208.000000  200.000000  ...          7.490000  105000.000000\n",
              "\n",
              "[8 rows x 9 columns]"
            ]
          },
          "metadata": {},
          "execution_count": 5
        }
      ]
    },
    {
      "cell_type": "code",
      "metadata": {
        "id": "XjQT5sMb1_yz",
        "colab": {
          "base_uri": "https://localhost:8080/"
        },
        "outputId": "8331b5ee-4327-4805-e27d-d0fc99ba43fc"
      },
      "source": [
        "df.isnull().any()#Check Missing Value"
      ],
      "execution_count": null,
      "outputs": [
        {
          "output_type": "execute_result",
          "data": {
            "text/plain": [
              "Negara              False\n",
              "Kematian_anak       False\n",
              "Ekspor              False\n",
              "Kesehatan           False\n",
              "Impor               False\n",
              "Pendapatan          False\n",
              "Inflasi             False\n",
              "Harapan_hidup       False\n",
              "Jumlah_fertiliti    False\n",
              "GDPperkapita        False\n",
              "dtype: bool"
            ]
          },
          "metadata": {},
          "execution_count": 6
        }
      ]
    },
    {
      "cell_type": "code",
      "metadata": {
        "colab": {
          "base_uri": "https://localhost:8080/",
          "height": 422
        },
        "id": "OVwAHcvv5SgN",
        "outputId": "98e49c82-7510-443c-fcd2-5e4e68400fa3"
      },
      "source": [
        "#Mengecek lagi apakah ada Mising Value atau tidak. Ternyata tidak, karena masih 167 row, 10 col. Artinya tidak ada yang di drop\n",
        "df=df.dropna(how='all')\n",
        "df"
      ],
      "execution_count": null,
      "outputs": [
        {
          "output_type": "execute_result",
          "data": {
            "text/html": [
              "<div>\n",
              "<style scoped>\n",
              "    .dataframe tbody tr th:only-of-type {\n",
              "        vertical-align: middle;\n",
              "    }\n",
              "\n",
              "    .dataframe tbody tr th {\n",
              "        vertical-align: top;\n",
              "    }\n",
              "\n",
              "    .dataframe thead th {\n",
              "        text-align: right;\n",
              "    }\n",
              "</style>\n",
              "<table border=\"1\" class=\"dataframe\">\n",
              "  <thead>\n",
              "    <tr style=\"text-align: right;\">\n",
              "      <th></th>\n",
              "      <th>Negara</th>\n",
              "      <th>Kematian_anak</th>\n",
              "      <th>Ekspor</th>\n",
              "      <th>Kesehatan</th>\n",
              "      <th>Impor</th>\n",
              "      <th>Pendapatan</th>\n",
              "      <th>Inflasi</th>\n",
              "      <th>Harapan_hidup</th>\n",
              "      <th>Jumlah_fertiliti</th>\n",
              "      <th>GDPperkapita</th>\n",
              "    </tr>\n",
              "  </thead>\n",
              "  <tbody>\n",
              "    <tr>\n",
              "      <th>0</th>\n",
              "      <td>Afghanistan</td>\n",
              "      <td>90.2</td>\n",
              "      <td>10.0</td>\n",
              "      <td>7.58</td>\n",
              "      <td>44.9</td>\n",
              "      <td>1610</td>\n",
              "      <td>9.44</td>\n",
              "      <td>56.2</td>\n",
              "      <td>5.82</td>\n",
              "      <td>553</td>\n",
              "    </tr>\n",
              "    <tr>\n",
              "      <th>1</th>\n",
              "      <td>Albania</td>\n",
              "      <td>16.6</td>\n",
              "      <td>28.0</td>\n",
              "      <td>6.55</td>\n",
              "      <td>48.6</td>\n",
              "      <td>9930</td>\n",
              "      <td>4.49</td>\n",
              "      <td>76.3</td>\n",
              "      <td>1.65</td>\n",
              "      <td>4090</td>\n",
              "    </tr>\n",
              "    <tr>\n",
              "      <th>2</th>\n",
              "      <td>Algeria</td>\n",
              "      <td>27.3</td>\n",
              "      <td>38.4</td>\n",
              "      <td>4.17</td>\n",
              "      <td>31.4</td>\n",
              "      <td>12900</td>\n",
              "      <td>16.10</td>\n",
              "      <td>76.5</td>\n",
              "      <td>2.89</td>\n",
              "      <td>4460</td>\n",
              "    </tr>\n",
              "    <tr>\n",
              "      <th>3</th>\n",
              "      <td>Angola</td>\n",
              "      <td>119.0</td>\n",
              "      <td>62.3</td>\n",
              "      <td>2.85</td>\n",
              "      <td>42.9</td>\n",
              "      <td>5900</td>\n",
              "      <td>22.40</td>\n",
              "      <td>60.1</td>\n",
              "      <td>6.16</td>\n",
              "      <td>3530</td>\n",
              "    </tr>\n",
              "    <tr>\n",
              "      <th>4</th>\n",
              "      <td>Antigua and Barbuda</td>\n",
              "      <td>10.3</td>\n",
              "      <td>45.5</td>\n",
              "      <td>6.03</td>\n",
              "      <td>58.9</td>\n",
              "      <td>19100</td>\n",
              "      <td>1.44</td>\n",
              "      <td>76.8</td>\n",
              "      <td>2.13</td>\n",
              "      <td>12200</td>\n",
              "    </tr>\n",
              "    <tr>\n",
              "      <th>...</th>\n",
              "      <td>...</td>\n",
              "      <td>...</td>\n",
              "      <td>...</td>\n",
              "      <td>...</td>\n",
              "      <td>...</td>\n",
              "      <td>...</td>\n",
              "      <td>...</td>\n",
              "      <td>...</td>\n",
              "      <td>...</td>\n",
              "      <td>...</td>\n",
              "    </tr>\n",
              "    <tr>\n",
              "      <th>162</th>\n",
              "      <td>Vanuatu</td>\n",
              "      <td>29.2</td>\n",
              "      <td>46.6</td>\n",
              "      <td>5.25</td>\n",
              "      <td>52.7</td>\n",
              "      <td>2950</td>\n",
              "      <td>2.62</td>\n",
              "      <td>63.0</td>\n",
              "      <td>3.50</td>\n",
              "      <td>2970</td>\n",
              "    </tr>\n",
              "    <tr>\n",
              "      <th>163</th>\n",
              "      <td>Venezuela</td>\n",
              "      <td>17.1</td>\n",
              "      <td>28.5</td>\n",
              "      <td>4.91</td>\n",
              "      <td>17.6</td>\n",
              "      <td>16500</td>\n",
              "      <td>45.90</td>\n",
              "      <td>75.4</td>\n",
              "      <td>2.47</td>\n",
              "      <td>13500</td>\n",
              "    </tr>\n",
              "    <tr>\n",
              "      <th>164</th>\n",
              "      <td>Vietnam</td>\n",
              "      <td>23.3</td>\n",
              "      <td>72.0</td>\n",
              "      <td>6.84</td>\n",
              "      <td>80.2</td>\n",
              "      <td>4490</td>\n",
              "      <td>12.10</td>\n",
              "      <td>73.1</td>\n",
              "      <td>1.95</td>\n",
              "      <td>1310</td>\n",
              "    </tr>\n",
              "    <tr>\n",
              "      <th>165</th>\n",
              "      <td>Yemen</td>\n",
              "      <td>56.3</td>\n",
              "      <td>30.0</td>\n",
              "      <td>5.18</td>\n",
              "      <td>34.4</td>\n",
              "      <td>4480</td>\n",
              "      <td>23.60</td>\n",
              "      <td>67.5</td>\n",
              "      <td>4.67</td>\n",
              "      <td>1310</td>\n",
              "    </tr>\n",
              "    <tr>\n",
              "      <th>166</th>\n",
              "      <td>Zambia</td>\n",
              "      <td>83.1</td>\n",
              "      <td>37.0</td>\n",
              "      <td>5.89</td>\n",
              "      <td>30.9</td>\n",
              "      <td>3280</td>\n",
              "      <td>14.00</td>\n",
              "      <td>52.0</td>\n",
              "      <td>5.40</td>\n",
              "      <td>1460</td>\n",
              "    </tr>\n",
              "  </tbody>\n",
              "</table>\n",
              "<p>167 rows × 10 columns</p>\n",
              "</div>"
            ],
            "text/plain": [
              "                  Negara  Kematian_anak  ...  Jumlah_fertiliti  GDPperkapita\n",
              "0            Afghanistan           90.2  ...              5.82           553\n",
              "1                Albania           16.6  ...              1.65          4090\n",
              "2                Algeria           27.3  ...              2.89          4460\n",
              "3                 Angola          119.0  ...              6.16          3530\n",
              "4    Antigua and Barbuda           10.3  ...              2.13         12200\n",
              "..                   ...            ...  ...               ...           ...\n",
              "162              Vanuatu           29.2  ...              3.50          2970\n",
              "163            Venezuela           17.1  ...              2.47         13500\n",
              "164              Vietnam           23.3  ...              1.95          1310\n",
              "165                Yemen           56.3  ...              4.67          1310\n",
              "166               Zambia           83.1  ...              5.40          1460\n",
              "\n",
              "[167 rows x 10 columns]"
            ]
          },
          "metadata": {},
          "execution_count": 7
        }
      ]
    },
    {
      "cell_type": "markdown",
      "metadata": {
        "id": "lcIhsYwTHb-5"
      },
      "source": [
        "#EDA"
      ]
    },
    {
      "cell_type": "markdown",
      "metadata": {
        "id": "JlReRUwoPpNj"
      },
      "source": [
        "#UNIVARIATE ANALISIS\n",
        "merupakan sebuah teknik dalam memahami dan melakukan eksplorasi data. Imbuhan awal ‘Uni’ artinya ‘satu’, maka analisa univariate merupakan analisa data feature tunggal.\n",
        "\n",
        "1. Dari data Kematian Anak. Jumlah Angka kematian paling banyak dijumpai pada rentan nilai 0 sampai 50\n",
        "2. Pada data Ekspor. Jumlah Ekspor paling tinggi, berada pada nilai 25, dengan jumlah 40 Negara.\n",
        "3. Pada data Kesehatan. Jumlah Angka kesehatan paling banyak pada rentan nilai 4 - 6, sedangkan jumlahnya yaitu 35 Negara\n",
        "4. Dari data Impor. Jumlah Angka impor terbanyak yaitu pada nilai 25. Dengan jumlah negara yang melakukan Impor pada nilai 25 tersebut yaitu 30 Negara\n",
        "5. Dari data Pendapatan. Jumlah Pendapatan terbanyak berada pada rentan nilai 0 - 20000.\n",
        "6. Dari data Inflasi. Jumlah Inflasi terbanyak berada pada rentan nilai 0 - 20\n",
        "7. Dari data Pendapatan. Jumlah Pendapatan terbanyak berada pada rentan nilai 0 - 20000.\n",
        "8. Dari data Harapan Hidup. Jumlah Harapan Hidup terbanyak berada pada rentan nilai 70 - 80\n",
        "9. Dari data 'Jumlah Fertiliti'. Jumlah data 'Jumlah Fertiliti' terbanyak berada pada rentan nilai 1-3\n",
        "10. Dari data 'Jumlah Fertiliti'. Jumlah data 'Jumlah Fertiliti' terbanyak berada pada rentan nilai 1-3.\n",
        "11. Dari Data GDP per Capita. paling banyak pada rentan nilai 0 - 20000\n"
      ]
    },
    {
      "cell_type": "code",
      "metadata": {
        "id": "7NlbmWstO69I",
        "colab": {
          "base_uri": "https://localhost:8080/",
          "height": 1000
        },
        "outputId": "158c9156-d041-4482-ae93-aa162dcdfd13"
      },
      "source": [
        "#UNIVARIATE ANALISIS\n",
        "\n",
        "fig=plt.figure(figsize=(12,8))\n",
        "for i in enumerate(df.describe().columns):\n",
        "  sns.displot(df[i[1]])\n",
        "plt.show()\n",
        "fig.savefig('univariate.png')"
      ],
      "execution_count": null,
      "outputs": [
        {
          "output_type": "display_data",
          "data": {
            "text/plain": [
              "<Figure size 864x576 with 0 Axes>"
            ]
          },
          "metadata": {}
        },
        {
          "output_type": "display_data",
          "data": {
            "image/png": "[encoded data removed]",
            "text/plain": [
              "<Figure size 360x360 with 1 Axes>"
            ]
          },
          "metadata": {
            "needs_background": "light"
          }
        },
        {
          "output_type": "display_data",
          "data": {
            "image/png": "[encoded data removed]",
            "text/plain": [
              "<Figure size 360x360 with 1 Axes>"
            ]
          },
          "metadata": {
            "needs_background": "light"
          }
        },
        {
          "output_type": "display_data",
          "data": {
            "image/png": "[encoded data removed]",
            "text/plain": [
              "<Figure size 360x360 with 1 Axes>"
            ]
          },
          "metadata": {
            "needs_background": "light"
          }
        },
        {
          "output_type": "display_data",
          "data": {
            "image/png": "[encoded data removed]",
            "text/plain": [
              "<Figure size 360x360 with 1 Axes>"
            ]
          },
          "metadata": {
            "needs_background": "light"
          }
        },
        {
          "output_type": "display_data",
          "data": {
            "image/png": "[encoded data removed]",
            "text/plain": [
              "<Figure size 360x360 with 1 Axes>"
            ]
          },
          "metadata": {
            "needs_background": "light"
          }
        },
        {
          "output_type": "display_data",
          "data": {
            "image/png": "[encoded data removed]",
            "text/plain": [
              "<Figure size 360x360 with 1 Axes>"
            ]
          },
          "metadata": {
            "needs_background": "light"
          }
        },
        {
          "output_type": "display_data",
          "data": {
            "image/png": "[encoded data removed]",
            "text/plain": [
              "<Figure size 360x360 with 1 Axes>"
            ]
          },
          "metadata": {
            "needs_background": "light"
          }
        },
        {
          "output_type": "display_data",
          "data": {
            "image/png": "[encoded data removed]",
            "text/plain": [
              "<Figure size 360x360 with 1 Axes>"
            ]
          },
          "metadata": {
            "needs_background": "light"
          }
        },
        {
          "output_type": "display_data",
          "data": {
            "image/png": "[encoded data removed]",
            "text/plain": [
              "<Figure size 360x360 with 1 Axes>"
            ]
          },
          "metadata": {
            "needs_background": "light"
          }
        }
      ]
    },
    {
      "cell_type": "markdown",
      "metadata": {
        "id": "fiy4glZZmwRb"
      },
      "source": [
        "#Bivariate\n",
        " Bivariate analysis digunakan untuk untuk menganalisa 2 variables dan menemukan sebuah relasi. Analisis bivariate juga merupakan salah satu cara untuk menggunakan koefisien korelasi dalam rangka menemukan apakah dua variabel memiliki relasi atau tidak."
      ]
    },
    {
      "cell_type": "code",
      "metadata": {
        "colab": {
          "base_uri": "https://localhost:8080/",
          "height": 205
        },
        "id": "BCjLmVLNt42A",
        "outputId": "fe69ddc5-3944-4d67-840a-3fb8f66d33e5"
      },
      "source": [
        "#untuk melihat hubungan antara kematian anak dan harapan hidup\n",
        "kematian_Harapan=df.drop(columns=['Ekspor',\t'Kesehatan',\t'Impor',\t'Pendapatan',\t'Inflasi','Jumlah_fertiliti',\t'GDPperkapita'])\n",
        "kematian_Harapan=kematian_Harapan.sort_values('Kematian_anak',ascending=False)#Sorting berdasarkan Kematian Anak\n",
        "kematian_Harapan.head()"
      ],
      "execution_count": null,
      "outputs": [
        {
          "output_type": "execute_result",
          "data": {
            "text/html": [
              "<div>\n",
              "<style scoped>\n",
              "    .dataframe tbody tr th:only-of-type {\n",
              "        vertical-align: middle;\n",
              "    }\n",
              "\n",
              "    .dataframe tbody tr th {\n",
              "        vertical-align: top;\n",
              "    }\n",
              "\n",
              "    .dataframe thead th {\n",
              "        text-align: right;\n",
              "    }\n",
              "</style>\n",
              "<table border=\"1\" class=\"dataframe\">\n",
              "  <thead>\n",
              "    <tr style=\"text-align: right;\">\n",
              "      <th></th>\n",
              "      <th>Negara</th>\n",
              "      <th>Kematian_anak</th>\n",
              "      <th>Harapan_hidup</th>\n",
              "    </tr>\n",
              "  </thead>\n",
              "  <tbody>\n",
              "    <tr>\n",
              "      <th>66</th>\n",
              "      <td>Haiti</td>\n",
              "      <td>208.0</td>\n",
              "      <td>32.1</td>\n",
              "    </tr>\n",
              "    <tr>\n",
              "      <th>132</th>\n",
              "      <td>Sierra Leone</td>\n",
              "      <td>160.0</td>\n",
              "      <td>55.0</td>\n",
              "    </tr>\n",
              "    <tr>\n",
              "      <th>32</th>\n",
              "      <td>Chad</td>\n",
              "      <td>150.0</td>\n",
              "      <td>56.5</td>\n",
              "    </tr>\n",
              "    <tr>\n",
              "      <th>31</th>\n",
              "      <td>Central African Republic</td>\n",
              "      <td>149.0</td>\n",
              "      <td>47.5</td>\n",
              "    </tr>\n",
              "    <tr>\n",
              "      <th>97</th>\n",
              "      <td>Mali</td>\n",
              "      <td>137.0</td>\n",
              "      <td>59.5</td>\n",
              "    </tr>\n",
              "  </tbody>\n",
              "</table>\n",
              "</div>"
            ],
            "text/plain": [
              "                       Negara  Kematian_anak  Harapan_hidup\n",
              "66                      Haiti          208.0           32.1\n",
              "132              Sierra Leone          160.0           55.0\n",
              "32                       Chad          150.0           56.5\n",
              "31   Central African Republic          149.0           47.5\n",
              "97                       Mali          137.0           59.5"
            ]
          },
          "metadata": {},
          "execution_count": 9
        }
      ]
    },
    {
      "cell_type": "code",
      "metadata": {
        "colab": {
          "base_uri": "https://localhost:8080/",
          "height": 391
        },
        "id": "ikAVNyBInSTc",
        "outputId": "e7ab4828-6bea-4822-d3dd-b4014aa4d504"
      },
      "source": [
        "fig=plt.figure(figsize=(8,5))\n",
        "sns.barplot(kematian_Harapan['Kematian_anak'].head(), kematian_Harapan['Harapan_hidup'].head())\n",
        "fig.savefig('BarPlot.png')"
      ],
      "execution_count": null,
      "outputs": [
        {
          "output_type": "stream",
          "name": "stderr",
          "text": [
            "/usr/local/lib/python3.7/dist-packages/seaborn/_decorators.py:43: FutureWarning: Pass the following variables as keyword args: x, y. From version 0.12, the only valid positional argument will be `data`, and passing other arguments without an explicit keyword will result in an error or misinterpretation.\n",
            "  FutureWarning\n"
          ]
        },
        {
          "output_type": "display_data",
          "data": {
            "image/png": "[encoded data removed]",
            "text/plain": [
              "<Figure size 576x360 with 1 Axes>"
            ]
          },
          "metadata": {
            "needs_background": "light"
          }
        }
      ]
    },
    {
      "cell_type": "markdown",
      "metadata": {
        "id": "Kts9fzqishkf"
      },
      "source": [
        "Dari BARPLOT Kematian_anak & Harapan_hidup. Diperoleh Harapan Hidup dan Kematian Anak berbanding terbalik. Dimana Semakin Tinggi nilai Harapan Hidup, Maka kematian Anak Semakin Rendah. Pada barplot ditunjukkan bahwa pada Harapan_Hidup bernilai 60, maka tingkat Kematian_Anak bernilai 137. Ketika Harapan Hidup 30, maka jumlah Kematian Anak makin tinggi yaitu 208"
      ]
    },
    {
      "cell_type": "code",
      "metadata": {
        "colab": {
          "base_uri": "https://localhost:8080/",
          "height": 205
        },
        "id": "1s-3KetDuY5g",
        "outputId": "56f05d57-92f8-4482-9a48-6c427c58eb83"
      },
      "source": [
        "#MELIHAT Hubungan Pendapatan dan GDPPerkapita\n",
        "pendapatan_gdp=df.drop(columns=['Kematian_anak','Ekspor','Kesehatan','Impor','Inflasi',\t'Harapan_hidup',\t'Jumlah_fertiliti'])\n",
        "pendapatan_gdp=pendapatan_gdp.sort_values('Pendapatan',ascending=True)\n",
        "pendapatan_gdp.head()"
      ],
      "execution_count": null,
      "outputs": [
        {
          "output_type": "execute_result",
          "data": {
            "text/html": [
              "<div>\n",
              "<style scoped>\n",
              "    .dataframe tbody tr th:only-of-type {\n",
              "        vertical-align: middle;\n",
              "    }\n",
              "\n",
              "    .dataframe tbody tr th {\n",
              "        vertical-align: top;\n",
              "    }\n",
              "\n",
              "    .dataframe thead th {\n",
              "        text-align: right;\n",
              "    }\n",
              "</style>\n",
              "<table border=\"1\" class=\"dataframe\">\n",
              "  <thead>\n",
              "    <tr style=\"text-align: right;\">\n",
              "      <th></th>\n",
              "      <th>Negara</th>\n",
              "      <th>Pendapatan</th>\n",
              "      <th>GDPperkapita</th>\n",
              "    </tr>\n",
              "  </thead>\n",
              "  <tbody>\n",
              "    <tr>\n",
              "      <th>37</th>\n",
              "      <td>Congo, Dem. Rep.</td>\n",
              "      <td>609</td>\n",
              "      <td>334</td>\n",
              "    </tr>\n",
              "    <tr>\n",
              "      <th>88</th>\n",
              "      <td>Liberia</td>\n",
              "      <td>700</td>\n",
              "      <td>327</td>\n",
              "    </tr>\n",
              "    <tr>\n",
              "      <th>26</th>\n",
              "      <td>Burundi</td>\n",
              "      <td>764</td>\n",
              "      <td>231</td>\n",
              "    </tr>\n",
              "    <tr>\n",
              "      <th>112</th>\n",
              "      <td>Niger</td>\n",
              "      <td>814</td>\n",
              "      <td>348</td>\n",
              "    </tr>\n",
              "    <tr>\n",
              "      <th>31</th>\n",
              "      <td>Central African Republic</td>\n",
              "      <td>888</td>\n",
              "      <td>446</td>\n",
              "    </tr>\n",
              "  </tbody>\n",
              "</table>\n",
              "</div>"
            ],
            "text/plain": [
              "                       Negara  Pendapatan  GDPperkapita\n",
              "37           Congo, Dem. Rep.         609           334\n",
              "88                    Liberia         700           327\n",
              "26                    Burundi         764           231\n",
              "112                     Niger         814           348\n",
              "31   Central African Republic         888           446"
            ]
          },
          "metadata": {},
          "execution_count": 11
        }
      ]
    },
    {
      "cell_type": "code",
      "metadata": {
        "colab": {
          "base_uri": "https://localhost:8080/",
          "height": 339
        },
        "id": "uObXKwb9taTX",
        "outputId": "36d93c15-603e-4ba8-b24e-6365c83db215"
      },
      "source": [
        "fig=plt.figure(figsize=(8,5))\n",
        "sns.set_theme(style=\"darkgrid\")\n",
        "sns.lineplot(data=pendapatan_gdp, x=\"Pendapatan\", y=\"GDPperkapita\")\n",
        "fig.savefig('LinePlot.png')"
      ],
      "execution_count": null,
      "outputs": [
        {
          "output_type": "display_data",
          "data": {
            "image/png": "[encoded data removed]",
            "text/plain": [
              "<Figure size 576x360 with 1 Axes>"
            ]
          },
          "metadata": {
            "needs_background": "light"
          }
        }
      ]
    },
    {
      "cell_type": "markdown",
      "metadata": {
        "id": "3z6SlC1O05Vd"
      },
      "source": [
        "DARI LINEPLOT Pendapatan Vs GDP Perkapita, diperoleh bahwa. Relasi antara Pendapatan dan GDPPerkapita yaitu berbanding lurus. Dimana Semakin Tinggi pendapatan, Maka GDP Semakin Rendah. Artinya Hubungan Korelasi Diantara Keduanya yaitu Tinggi"
      ]
    },
    {
      "cell_type": "markdown",
      "metadata": {
        "id": "2gJ9DgZC1eVX"
      },
      "source": [
        "MULTIVARIATE"
      ]
    },
    {
      "cell_type": "markdown",
      "metadata": {
        "id": "T8hTa55-3VCK"
      },
      "source": [
        "Multivariate analysis digunakan untuk menganalisa lebih dari 2 variabel di waktu yang sama, trends yang dihasilkan bisa menjadi multidimensi secara alami, dengan analisa ini akan membantu kita memahami manakah data yang memiliki tren yang kompleks pada kombinasi atribut.\n",
        "\n",
        "PADA GAMBAR HEATMAP :\n",
        "\n",
        "pada Heatmap didapatkan bahwa warna yang paling terang Vanila = (1), akan memiliki koefisien korelasi tertinggi. Dan warna berwarna gelap black>=(-0,75) Memiliki Koefisien Korelasi Terendah. \n",
        "\n",
        "\n",
        "1. Antara Pendapatan & GDP Perkapita Memiliki Koefisien Korelasi Tertinggi (0,9)\n",
        "2. Kematian Anak dan Jumlah Fertiliti memiliki koefisien korelasi tinggi yaitu (0,85)\n",
        "2. Harapan Hidup & Kematian Anak Memiliki Koefisien Korelasi TerRendah (-0.89)"
      ]
    },
    {
      "cell_type": "code",
      "metadata": {
        "colab": {
          "base_uri": "https://localhost:8080/",
          "height": 401
        },
        "id": "VWJNOzFB2Eva",
        "outputId": "40adf040-db6b-4aef-860f-6b15902d604f"
      },
      "source": [
        "fig=plt.figure(figsize=(8,5))\n",
        "sns.heatmap(df.corr(),annot=True, fmt='.2g')\n",
        "fig.savefig('HeatMap.png')"
      ],
      "execution_count": null,
      "outputs": [
        {
          "output_type": "display_data",
          "data": {
            "image/png": "[encoded data removed]",
            "text/plain": [
              "<Figure size 576x360 with 2 Axes>"
            ]
          },
          "metadata": {}
        }
      ]
    },
    {
      "cell_type": "markdown",
      "metadata": {
        "id": "ikPsDXR5QV60"
      },
      "source": [
        "#DROP DATA"
      ]
    },
    {
      "cell_type": "markdown",
      "metadata": {
        "id": "a0ihdePZ6wu6"
      },
      "source": [
        "Kita akan mengambil salah satu data yang Hubungan korelasinya. Dengan tetap menyertakan data yang Hubungan korelasinya rendah. Pada kasus ini data yang kita ambil yaitu :\n",
        "1. Pendapatan: Penghasilan bersih perorang\n",
        "3. Harapan Hidup : Jumlah tahun rata-rata seorang anak yang baru lahir akan hidup jika pola kematian saat ini tetap sama\n",
        "\n"
      ]
    },
    {
      "cell_type": "markdown",
      "metadata": {
        "id": "GC-3kL0VSeFR"
      },
      "source": [
        "##Outlier Treatment\n",
        "cek outlier dengan boxplot"
      ]
    },
    {
      "cell_type": "code",
      "metadata": {
        "colab": {
          "base_uri": "https://localhost:8080/",
          "height": 395
        },
        "id": "OkRtJrsUSIlG",
        "outputId": "39473833-c246-4ac9-a56b-85f984bd5847"
      },
      "source": [
        "fig=plt.figure(figsize=(8,5))\n",
        "sns.boxplot('Harapan_hidup', data=df)\n",
        "fig.savefig('Boxplot_HARAPAN_HIDUP.png')"
      ],
      "execution_count": null,
      "outputs": [
        {
          "output_type": "stream",
          "name": "stderr",
          "text": [
            "/usr/local/lib/python3.7/dist-packages/seaborn/_decorators.py:43: FutureWarning: Pass the following variable as a keyword arg: x. From version 0.12, the only valid positional argument will be `data`, and passing other arguments without an explicit keyword will result in an error or misinterpretation.\n",
            "  FutureWarning\n"
          ]
        },
        {
          "output_type": "display_data",
          "data": {
            "image/png": "[encoded data removed]",
            "text/plain": [
              "<Figure size 576x360 with 1 Axes>"
            ]
          },
          "metadata": {}
        }
      ]
    },
    {
      "cell_type": "code",
      "metadata": {
        "colab": {
          "base_uri": "https://localhost:8080/",
          "height": 395
        },
        "id": "H2-Nd71zmDR5",
        "outputId": "5318a185-3c1c-4613-d107-26a358fa605e"
      },
      "source": [
        "fig=plt.figure(figsize=(8,5))\n",
        "sns.boxplot('Pendapatan', data=df)\n",
        "fig.savefig('Boxplot_PENDAPATAN.png')"
      ],
      "execution_count": null,
      "outputs": [
        {
          "output_type": "stream",
          "name": "stderr",
          "text": [
            "/usr/local/lib/python3.7/dist-packages/seaborn/_decorators.py:43: FutureWarning: Pass the following variable as a keyword arg: x. From version 0.12, the only valid positional argument will be `data`, and passing other arguments without an explicit keyword will result in an error or misinterpretation.\n",
            "  FutureWarning\n"
          ]
        },
        {
          "output_type": "display_data",
          "data": {
            "image/png": "[encoded data removed]",
            "text/plain": [
              "<Figure size 576x360 with 1 Axes>"
            ]
          },
          "metadata": {}
        }
      ]
    },
    {
      "cell_type": "code",
      "metadata": {
        "id": "WnsOaiMBUYq8"
      },
      "source": [
        "def remove_outlier(df):\n",
        "  Q1 = df.quantile(0.25)\n",
        "  Q3 = df.quantile(0.75)\n",
        "  IQR  = Q3-Q1\n",
        "  df_final = df[~(df>(Q1-(1.5*IQR))) | (df<(Q3+(1.5*IQR)))]\n",
        "  return df_final"
      ],
      "execution_count": null,
      "outputs": []
    },
    {
      "cell_type": "code",
      "metadata": {
        "colab": {
          "base_uri": "https://localhost:8080/",
          "height": 422
        },
        "id": "hIYxrM_1Ungg",
        "outputId": "b4969531-0dbd-4629-8a68-e3e94540b6a9"
      },
      "source": [
        "df2 = remove_outlier(df[['Pendapatan','Harapan_hidup']])#COBA 3 data, menambahkan\n",
        "df2.dropna(axis=0, inplace=True)\n",
        "df2"
      ],
      "execution_count": null,
      "outputs": [
        {
          "output_type": "execute_result",
          "data": {
            "text/html": [
              "<div>\n",
              "<style scoped>\n",
              "    .dataframe tbody tr th:only-of-type {\n",
              "        vertical-align: middle;\n",
              "    }\n",
              "\n",
              "    .dataframe tbody tr th {\n",
              "        vertical-align: top;\n",
              "    }\n",
              "\n",
              "    .dataframe thead th {\n",
              "        text-align: right;\n",
              "    }\n",
              "</style>\n",
              "<table border=\"1\" class=\"dataframe\">\n",
              "  <thead>\n",
              "    <tr style=\"text-align: right;\">\n",
              "      <th></th>\n",
              "      <th>Pendapatan</th>\n",
              "      <th>Harapan_hidup</th>\n",
              "    </tr>\n",
              "  </thead>\n",
              "  <tbody>\n",
              "    <tr>\n",
              "      <th>0</th>\n",
              "      <td>1610.0</td>\n",
              "      <td>56.2</td>\n",
              "    </tr>\n",
              "    <tr>\n",
              "      <th>1</th>\n",
              "      <td>9930.0</td>\n",
              "      <td>76.3</td>\n",
              "    </tr>\n",
              "    <tr>\n",
              "      <th>2</th>\n",
              "      <td>12900.0</td>\n",
              "      <td>76.5</td>\n",
              "    </tr>\n",
              "    <tr>\n",
              "      <th>3</th>\n",
              "      <td>5900.0</td>\n",
              "      <td>60.1</td>\n",
              "    </tr>\n",
              "    <tr>\n",
              "      <th>4</th>\n",
              "      <td>19100.0</td>\n",
              "      <td>76.8</td>\n",
              "    </tr>\n",
              "    <tr>\n",
              "      <th>...</th>\n",
              "      <td>...</td>\n",
              "      <td>...</td>\n",
              "    </tr>\n",
              "    <tr>\n",
              "      <th>162</th>\n",
              "      <td>2950.0</td>\n",
              "      <td>63.0</td>\n",
              "    </tr>\n",
              "    <tr>\n",
              "      <th>163</th>\n",
              "      <td>16500.0</td>\n",
              "      <td>75.4</td>\n",
              "    </tr>\n",
              "    <tr>\n",
              "      <th>164</th>\n",
              "      <td>4490.0</td>\n",
              "      <td>73.1</td>\n",
              "    </tr>\n",
              "    <tr>\n",
              "      <th>165</th>\n",
              "      <td>4480.0</td>\n",
              "      <td>67.5</td>\n",
              "    </tr>\n",
              "    <tr>\n",
              "      <th>166</th>\n",
              "      <td>3280.0</td>\n",
              "      <td>52.0</td>\n",
              "    </tr>\n",
              "  </tbody>\n",
              "</table>\n",
              "<p>159 rows × 2 columns</p>\n",
              "</div>"
            ],
            "text/plain": [
              "     Pendapatan  Harapan_hidup\n",
              "0        1610.0           56.2\n",
              "1        9930.0           76.3\n",
              "2       12900.0           76.5\n",
              "3        5900.0           60.1\n",
              "4       19100.0           76.8\n",
              "..          ...            ...\n",
              "162      2950.0           63.0\n",
              "163     16500.0           75.4\n",
              "164      4490.0           73.1\n",
              "165      4480.0           67.5\n",
              "166      3280.0           52.0\n",
              "\n",
              "[159 rows x 2 columns]"
            ]
          },
          "metadata": {},
          "execution_count": 17
        }
      ]
    },
    {
      "cell_type": "code",
      "metadata": {
        "colab": {
          "base_uri": "https://localhost:8080/",
          "height": 395
        },
        "id": "iPccvfApVJUo",
        "outputId": "619d16ea-e159-4e44-8e35-5bd33fda86ae"
      },
      "source": [
        "fig=plt.figure(figsize=(8,5))\n",
        "sns.boxplot('Pendapatan', data=df2)\n",
        "fig.savefig('REMOVEOUTLIER_PENDAPATAN.png')"
      ],
      "execution_count": null,
      "outputs": [
        {
          "output_type": "stream",
          "name": "stderr",
          "text": [
            "/usr/local/lib/python3.7/dist-packages/seaborn/_decorators.py:43: FutureWarning: Pass the following variable as a keyword arg: x. From version 0.12, the only valid positional argument will be `data`, and passing other arguments without an explicit keyword will result in an error or misinterpretation.\n",
            "  FutureWarning\n"
          ]
        },
        {
          "output_type": "display_data",
          "data": {
            "image/png": "[encoded data removed]",
            "text/plain": [
              "<Figure size 576x360 with 1 Axes>"
            ]
          },
          "metadata": {}
        }
      ]
    },
    {
      "cell_type": "code",
      "metadata": {
        "colab": {
          "base_uri": "https://localhost:8080/",
          "height": 395
        },
        "id": "Id5hjTWjWlzq",
        "outputId": "85116b2c-e07b-40a4-cc83-fa2198d8e16b"
      },
      "source": [
        "fig=plt.figure(figsize=(8,5))\n",
        "sns.boxplot('Harapan_hidup', data=df2)\n",
        "fig.savefig('REMOVEOUTLIER_HARAPANHidup.png')"
      ],
      "execution_count": null,
      "outputs": [
        {
          "output_type": "stream",
          "name": "stderr",
          "text": [
            "/usr/local/lib/python3.7/dist-packages/seaborn/_decorators.py:43: FutureWarning: Pass the following variable as a keyword arg: x. From version 0.12, the only valid positional argument will be `data`, and passing other arguments without an explicit keyword will result in an error or misinterpretation.\n",
            "  FutureWarning\n"
          ]
        },
        {
          "output_type": "display_data",
          "data": {
            "image/png": "[encoded data removed]",
            "text/plain": [
              "<Figure size 576x360 with 1 Axes>"
            ]
          },
          "metadata": {}
        }
      ]
    },
    {
      "cell_type": "markdown",
      "metadata": {
        "id": "SkhXEK_xhnlW"
      },
      "source": [
        "#SCALING DATA"
      ]
    },
    {
      "cell_type": "code",
      "metadata": {
        "id": "iuSxlM7YhvLF"
      },
      "source": [
        "#feature scaling\n",
        "\n",
        "from sklearn.preprocessing import StandardScaler\n",
        "sc = StandardScaler()\n",
        "df_std = sc.fit_transform(df2)"
      ],
      "execution_count": null,
      "outputs": []
    },
    {
      "cell_type": "code",
      "metadata": {
        "colab": {
          "base_uri": "https://localhost:8080/"
        },
        "id": "Q6NiAG18iDDx",
        "outputId": "ef083fdc-3cbe-4bc5-e005-297bee3e2743"
      },
      "source": [
        "#clustering with KMeans\n",
        "from sklearn.cluster import KMeans\n",
        "kmeans1 = KMeans(n_clusters = 2, random_state=42).fit(df_std)\n",
        "labels1 = kmeans1.labels_\n",
        "labels1"
      ],
      "execution_count": null,
      "outputs": [
        {
          "output_type": "execute_result",
          "data": {
            "text/plain": [
              "array([1, 0, 0, 1, 0, 0, 1, 0, 0, 1, 0, 0, 1, 0, 0, 0, 1, 1, 1, 1, 0, 1,\n",
              "       0, 0, 1, 1, 1, 1, 0, 1, 1, 1, 0, 0, 0, 1, 1, 1, 0, 1, 0, 0, 0, 0,\n",
              "       0, 0, 1, 1, 0, 1, 0, 1, 0, 0, 1, 1, 1, 0, 1, 0, 1, 1, 1, 1, 1, 1,\n",
              "       0, 0, 1, 1, 0, 1, 0, 0, 0, 1, 0, 0, 0, 1, 1, 1, 1, 0, 0, 1, 1, 0,\n",
              "       0, 0, 1, 1, 0, 0, 1, 0, 1, 0, 1, 1, 1, 0, 1, 1, 1, 1, 1, 0, 0, 1,\n",
              "       1, 0, 1, 0, 1, 0, 1, 0, 0, 0, 0, 1, 1, 0, 1, 0, 0, 1, 0, 0, 1, 1,\n",
              "       0, 0, 1, 1, 1, 1, 0, 1, 1, 0, 1, 1, 1, 0, 0, 1, 1, 1, 0, 0, 0, 1,\n",
              "       1, 0, 1, 1, 1], dtype=int32)"
            ]
          },
          "metadata": {},
          "execution_count": 21
        }
      ]
    },
    {
      "cell_type": "code",
      "metadata": {
        "colab": {
          "base_uri": "https://localhost:8080/",
          "height": 422
        },
        "id": "iIxFAj9RiO6G",
        "outputId": "da67bd65-0bcb-4088-ac8f-e8aedff6efcf"
      },
      "source": [
        "new_df = pd.DataFrame(data=df_std, columns=['Pendapatan','Harapan_hidup'])\n",
        "new_df['label1_kmeans'] = labels1\n",
        "new_df"
      ],
      "execution_count": null,
      "outputs": [
        {
          "output_type": "execute_result",
          "data": {
            "text/html": [
              "<div>\n",
              "<style scoped>\n",
              "    .dataframe tbody tr th:only-of-type {\n",
              "        vertical-align: middle;\n",
              "    }\n",
              "\n",
              "    .dataframe tbody tr th {\n",
              "        vertical-align: top;\n",
              "    }\n",
              "\n",
              "    .dataframe thead th {\n",
              "        text-align: right;\n",
              "    }\n",
              "</style>\n",
              "<table border=\"1\" class=\"dataframe\">\n",
              "  <thead>\n",
              "    <tr style=\"text-align: right;\">\n",
              "      <th></th>\n",
              "      <th>Pendapatan</th>\n",
              "      <th>Harapan_hidup</th>\n",
              "      <th>label1_kmeans</th>\n",
              "    </tr>\n",
              "  </thead>\n",
              "  <tbody>\n",
              "    <tr>\n",
              "      <th>0</th>\n",
              "      <td>-0.950815</td>\n",
              "      <td>-1.574758</td>\n",
              "      <td>1</td>\n",
              "    </tr>\n",
              "    <tr>\n",
              "      <th>1</th>\n",
              "      <td>-0.317848</td>\n",
              "      <td>0.704060</td>\n",
              "      <td>0</td>\n",
              "    </tr>\n",
              "    <tr>\n",
              "      <th>2</th>\n",
              "      <td>-0.091898</td>\n",
              "      <td>0.726735</td>\n",
              "      <td>0</td>\n",
              "    </tr>\n",
              "    <tr>\n",
              "      <th>3</th>\n",
              "      <td>-0.624441</td>\n",
              "      <td>-1.132600</td>\n",
              "      <td>1</td>\n",
              "    </tr>\n",
              "    <tr>\n",
              "      <th>4</th>\n",
              "      <td>0.379784</td>\n",
              "      <td>0.760747</td>\n",
              "      <td>0</td>\n",
              "    </tr>\n",
              "    <tr>\n",
              "      <th>...</th>\n",
              "      <td>...</td>\n",
              "      <td>...</td>\n",
              "      <td>...</td>\n",
              "    </tr>\n",
              "    <tr>\n",
              "      <th>154</th>\n",
              "      <td>-0.848871</td>\n",
              "      <td>-0.803815</td>\n",
              "      <td>1</td>\n",
              "    </tr>\n",
              "    <tr>\n",
              "      <th>155</th>\n",
              "      <td>0.181982</td>\n",
              "      <td>0.602023</td>\n",
              "      <td>0</td>\n",
              "    </tr>\n",
              "    <tr>\n",
              "      <th>156</th>\n",
              "      <td>-0.731711</td>\n",
              "      <td>0.341263</td>\n",
              "      <td>1</td>\n",
              "    </tr>\n",
              "    <tr>\n",
              "      <th>157</th>\n",
              "      <td>-0.732472</td>\n",
              "      <td>-0.293632</td>\n",
              "      <td>1</td>\n",
              "    </tr>\n",
              "    <tr>\n",
              "      <th>158</th>\n",
              "      <td>-0.823765</td>\n",
              "      <td>-2.050929</td>\n",
              "      <td>1</td>\n",
              "    </tr>\n",
              "  </tbody>\n",
              "</table>\n",
              "<p>159 rows × 3 columns</p>\n",
              "</div>"
            ],
            "text/plain": [
              "     Pendapatan  Harapan_hidup  label1_kmeans\n",
              "0     -0.950815      -1.574758              1\n",
              "1     -0.317848       0.704060              0\n",
              "2     -0.091898       0.726735              0\n",
              "3     -0.624441      -1.132600              1\n",
              "4      0.379784       0.760747              0\n",
              "..          ...            ...            ...\n",
              "154   -0.848871      -0.803815              1\n",
              "155    0.181982       0.602023              0\n",
              "156   -0.731711       0.341263              1\n",
              "157   -0.732472      -0.293632              1\n",
              "158   -0.823765      -2.050929              1\n",
              "\n",
              "[159 rows x 3 columns]"
            ]
          },
          "metadata": {},
          "execution_count": 22
        }
      ]
    },
    {
      "cell_type": "code",
      "metadata": {
        "colab": {
          "base_uri": "https://localhost:8080/",
          "height": 485
        },
        "id": "RkL59mMOiduR",
        "outputId": "11b1e1b7-166c-41f1-9c93-c3175e8c8d32"
      },
      "source": [
        "fig=plt.figure(figsize=(12,8))\n",
        "\n",
        "plt.scatter(new_df['Pendapatan'][new_df.label1_kmeans==0], new_df['Harapan_hidup'][new_df.label1_kmeans==0], c='blue', s=100, edgecolors='green')\n",
        "plt.scatter(new_df['Pendapatan'][new_df.label1_kmeans==1], new_df['Harapan_hidup'][new_df.label1_kmeans==1], c='red', s=100, edgecolors='green')\n",
        "\n",
        "\n",
        "plt.scatter(kmeans1.cluster_centers_[:,0], kmeans1.cluster_centers_[:,0], c='k', s=300)\n",
        "\n",
        "plt.show()\n",
        "fig.savefig('Kmeans_1.1.png')"
      ],
      "execution_count": null,
      "outputs": [
        {
          "output_type": "display_data",
          "data": {
            "image/png": "[encoded data removed]",
            "text/plain": [
              "<Figure size 864x576 with 1 Axes>"
            ]
          },
          "metadata": {}
        }
      ]
    },
    {
      "cell_type": "code",
      "metadata": {
        "colab": {
          "base_uri": "https://localhost:8080/",
          "height": 355
        },
        "id": "7VnDUs34m3hJ",
        "outputId": "3fd84ff7-c028-4d85-bd06-984165575737"
      },
      "source": [
        "fig=plt.figure(figsize=(8,5))\n",
        "wcss = []\n",
        "for i in range(1,11):\n",
        "  kmeans = KMeans(n_clusters=i, init='k-means++', random_state=42)\n",
        "  kmeans.fit(df_std)\n",
        "  wcss.append(kmeans.inertia_)\n",
        "\n",
        "plt.plot(range(1,11), wcss)\n",
        "plt.title('Elbow method')\n",
        "plt.xlabel('n_clusters')\n",
        "plt.ylabel('wcss')\n",
        "\n",
        "plt.show()\n",
        "fig.savefig('ELBOW METHOD.png')"
      ],
      "execution_count": null,
      "outputs": [
        {
          "output_type": "display_data",
          "data": {
            "image/png": "[encoded data removed]",
            "text/plain": [
              "<Figure size 576x360 with 1 Axes>"
            ]
          },
          "metadata": {}
        }
      ]
    },
    {
      "cell_type": "code",
      "metadata": {
        "id": "Qs8AYaTGryrq"
      },
      "source": [
        "kmeans2 = KMeans(n_clusters = 4, init='k-means++', random_state=42)\n",
        "kmeans2.fit(df_std)\n",
        "labels2 = kmeans2.labels_"
      ],
      "execution_count": null,
      "outputs": []
    },
    {
      "cell_type": "code",
      "metadata": {
        "colab": {
          "base_uri": "https://localhost:8080/",
          "height": 422
        },
        "id": "m-CbLRu4sAM2",
        "outputId": "4617aee0-84b2-4602-b10e-5bb6a5e27dbf"
      },
      "source": [
        "new_df['label2_kmeans'] = labels2\n",
        "new_df"
      ],
      "execution_count": null,
      "outputs": [
        {
          "output_type": "execute_result",
          "data": {
            "text/html": [
              "<div>\n",
              "<style scoped>\n",
              "    .dataframe tbody tr th:only-of-type {\n",
              "        vertical-align: middle;\n",
              "    }\n",
              "\n",
              "    .dataframe tbody tr th {\n",
              "        vertical-align: top;\n",
              "    }\n",
              "\n",
              "    .dataframe thead th {\n",
              "        text-align: right;\n",
              "    }\n",
              "</style>\n",
              "<table border=\"1\" class=\"dataframe\">\n",
              "  <thead>\n",
              "    <tr style=\"text-align: right;\">\n",
              "      <th></th>\n",
              "      <th>Pendapatan</th>\n",
              "      <th>Harapan_hidup</th>\n",
              "      <th>label1_kmeans</th>\n",
              "      <th>label2_kmeans</th>\n",
              "    </tr>\n",
              "  </thead>\n",
              "  <tbody>\n",
              "    <tr>\n",
              "      <th>0</th>\n",
              "      <td>-0.950815</td>\n",
              "      <td>-1.574758</td>\n",
              "      <td>1</td>\n",
              "      <td>1</td>\n",
              "    </tr>\n",
              "    <tr>\n",
              "      <th>1</th>\n",
              "      <td>-0.317848</td>\n",
              "      <td>0.704060</td>\n",
              "      <td>0</td>\n",
              "      <td>3</td>\n",
              "    </tr>\n",
              "    <tr>\n",
              "      <th>2</th>\n",
              "      <td>-0.091898</td>\n",
              "      <td>0.726735</td>\n",
              "      <td>0</td>\n",
              "      <td>3</td>\n",
              "    </tr>\n",
              "    <tr>\n",
              "      <th>3</th>\n",
              "      <td>-0.624441</td>\n",
              "      <td>-1.132600</td>\n",
              "      <td>1</td>\n",
              "      <td>1</td>\n",
              "    </tr>\n",
              "    <tr>\n",
              "      <th>4</th>\n",
              "      <td>0.379784</td>\n",
              "      <td>0.760747</td>\n",
              "      <td>0</td>\n",
              "      <td>3</td>\n",
              "    </tr>\n",
              "    <tr>\n",
              "      <th>...</th>\n",
              "      <td>...</td>\n",
              "      <td>...</td>\n",
              "      <td>...</td>\n",
              "      <td>...</td>\n",
              "    </tr>\n",
              "    <tr>\n",
              "      <th>154</th>\n",
              "      <td>-0.848871</td>\n",
              "      <td>-0.803815</td>\n",
              "      <td>1</td>\n",
              "      <td>1</td>\n",
              "    </tr>\n",
              "    <tr>\n",
              "      <th>155</th>\n",
              "      <td>0.181982</td>\n",
              "      <td>0.602023</td>\n",
              "      <td>0</td>\n",
              "      <td>3</td>\n",
              "    </tr>\n",
              "    <tr>\n",
              "      <th>156</th>\n",
              "      <td>-0.731711</td>\n",
              "      <td>0.341263</td>\n",
              "      <td>1</td>\n",
              "      <td>2</td>\n",
              "    </tr>\n",
              "    <tr>\n",
              "      <th>157</th>\n",
              "      <td>-0.732472</td>\n",
              "      <td>-0.293632</td>\n",
              "      <td>1</td>\n",
              "      <td>2</td>\n",
              "    </tr>\n",
              "    <tr>\n",
              "      <th>158</th>\n",
              "      <td>-0.823765</td>\n",
              "      <td>-2.050929</td>\n",
              "      <td>1</td>\n",
              "      <td>1</td>\n",
              "    </tr>\n",
              "  </tbody>\n",
              "</table>\n",
              "<p>159 rows × 4 columns</p>\n",
              "</div>"
            ],
            "text/plain": [
              "     Pendapatan  Harapan_hidup  label1_kmeans  label2_kmeans\n",
              "0     -0.950815      -1.574758              1              1\n",
              "1     -0.317848       0.704060              0              3\n",
              "2     -0.091898       0.726735              0              3\n",
              "3     -0.624441      -1.132600              1              1\n",
              "4      0.379784       0.760747              0              3\n",
              "..          ...            ...            ...            ...\n",
              "154   -0.848871      -0.803815              1              1\n",
              "155    0.181982       0.602023              0              3\n",
              "156   -0.731711       0.341263              1              2\n",
              "157   -0.732472      -0.293632              1              2\n",
              "158   -0.823765      -2.050929              1              1\n",
              "\n",
              "[159 rows x 4 columns]"
            ]
          },
          "metadata": {},
          "execution_count": 26
        }
      ]
    },
    {
      "cell_type": "code",
      "metadata": {
        "colab": {
          "base_uri": "https://localhost:8080/",
          "height": 485
        },
        "id": "PmrghKWasc2X",
        "outputId": "bda595fe-72d8-44f8-e648-8cd43a69be46"
      },
      "source": [
        "fig=plt.figure(figsize=(12,8))\n",
        "\n",
        "plt.scatter(new_df['Pendapatan'][new_df.label2_kmeans==0], new_df['Harapan_hidup'][new_df.label2_kmeans==0], label='0', c='blue', s=100, edgecolors='green')\n",
        "plt.scatter(new_df['Pendapatan'][new_df.label2_kmeans==1], new_df['Harapan_hidup'][new_df.label2_kmeans==1], label='1', c='red', s=100, edgecolors='green')\n",
        "plt.scatter(new_df['Pendapatan'][new_df.label2_kmeans==2], new_df['Harapan_hidup'][new_df.label2_kmeans==2], label='2', c='green', s=100, edgecolors='green')\n",
        "plt.scatter(new_df['Pendapatan'][new_df.label2_kmeans==3], new_df['Harapan_hidup'][new_df.label2_kmeans==3], label ='3', c='yellow', s=100, edgecolors='green')\n",
        "\n",
        "plt.scatter(kmeans2.cluster_centers_[:,0], kmeans2.cluster_centers_[:,1], c='k', s=300)\n",
        "plt.legend()\n",
        "plt.show()\n",
        "fig.savefig('Kmeans_1.2.png')"
      ],
      "execution_count": null,
      "outputs": [
        {
          "output_type": "display_data",
          "data": {
            "image/png": "[encoded data removed]",
            "text/plain": [
              "<Figure size 864x576 with 1 Axes>"
            ]
          },
          "metadata": {}
        }
      ]
    },
    {
      "cell_type": "code",
      "metadata": {
        "colab": {
          "base_uri": "https://localhost:8080/"
        },
        "id": "lFJcm4oEszlH",
        "outputId": "e4f6a1b9-5677-499f-a3dc-f1f9551fd10d"
      },
      "source": [
        "from sklearn.metrics import silhouette_score\n",
        "\n",
        "print(silhouette_score(df_std, labels= labels1))\n",
        "print(silhouette_score(df_std, labels= labels2))"
      ],
      "execution_count": null,
      "outputs": [
        {
          "output_type": "stream",
          "name": "stdout",
          "text": [
            "0.4793984682060574\n",
            "0.476476701030405\n"
          ]
        }
      ]
    },
    {
      "cell_type": "markdown",
      "metadata": {
        "id": "H99vDVDLfpsd"
      },
      "source": [
        "#INVERSE TRANSFORM"
      ]
    },
    {
      "cell_type": "code",
      "metadata": {
        "colab": {
          "base_uri": "https://localhost:8080/"
        },
        "id": "N8Jv6iAwfpF9",
        "outputId": "0f1f47e3-3b8d-4c23-bc19-6073729b7213"
      },
      "source": [
        "from sklearn.cluster import KMeans\n",
        "kmeansa = KMeans(n_clusters = 2, random_state=42).fit(sc.inverse_transform(df_std))\n",
        "labelsa = kmeansa.labels_\n",
        "labelsa"
      ],
      "execution_count": null,
      "outputs": [
        {
          "output_type": "execute_result",
          "data": {
            "text/plain": [
              "array([1, 1, 1, 1, 1, 1, 1, 0, 0, 1, 0, 0, 1, 1, 1, 0, 1, 1, 1, 1, 1, 1,\n",
              "       1, 1, 1, 1, 1, 1, 0, 1, 1, 1, 1, 1, 1, 1, 1, 1, 1, 1, 1, 0, 0, 0,\n",
              "       1, 1, 1, 1, 0, 1, 0, 1, 0, 0, 1, 1, 1, 0, 1, 0, 1, 1, 1, 1, 1, 1,\n",
              "       0, 0, 1, 1, 1, 1, 0, 0, 0, 1, 0, 1, 1, 1, 1, 1, 1, 1, 1, 1, 1, 0,\n",
              "       1, 1, 1, 1, 1, 1, 1, 0, 1, 1, 1, 1, 1, 1, 1, 1, 1, 1, 1, 0, 0, 1,\n",
              "       1, 0, 1, 1, 1, 1, 1, 0, 0, 1, 0, 1, 1, 0, 1, 1, 1, 1, 0, 0, 1, 1,\n",
              "       0, 0, 1, 1, 1, 1, 0, 1, 1, 1, 1, 1, 1, 1, 1, 1, 1, 1, 0, 0, 1, 1,\n",
              "       1, 1, 1, 1, 1], dtype=int32)"
            ]
          },
          "metadata": {},
          "execution_count": 29
        }
      ]
    },
    {
      "cell_type": "code",
      "metadata": {
        "colab": {
          "base_uri": "https://localhost:8080/"
        },
        "id": "NvI2II4IfyRv",
        "outputId": "b5c48f59-6195-47d3-c560-ed82032d5b58"
      },
      "source": [
        "kmeansb = KMeans(n_clusters = 4, init='k-means++', random_state=42).fit(df_std)\n",
        "labelsb = kmeansb.labels_\n",
        "labelsb"
      ],
      "execution_count": null,
      "outputs": [
        {
          "output_type": "execute_result",
          "data": {
            "text/plain": [
              "array([1, 3, 3, 1, 3, 3, 2, 0, 0, 3, 3, 0, 2, 3, 3, 0, 2, 1, 2, 2, 3, 1,\n",
              "       3, 3, 1, 1, 2, 1, 0, 2, 1, 1, 3, 3, 3, 2, 1, 1, 3, 1, 3, 0, 0, 0,\n",
              "       3, 3, 2, 2, 3, 1, 3, 2, 0, 0, 2, 2, 2, 0, 1, 0, 2, 2, 1, 1, 2, 1,\n",
              "       3, 0, 2, 2, 3, 2, 0, 0, 0, 3, 0, 3, 3, 1, 1, 2, 2, 3, 3, 1, 1, 0,\n",
              "       3, 3, 1, 1, 3, 3, 1, 0, 2, 3, 2, 2, 2, 3, 2, 1, 2, 1, 2, 0, 0, 1,\n",
              "       1, 0, 2, 3, 2, 3, 2, 3, 0, 3, 3, 2, 2, 0, 2, 3, 3, 1, 3, 0, 1, 1,\n",
              "       0, 0, 3, 2, 2, 3, 0, 2, 1, 3, 2, 1, 2, 3, 3, 2, 1, 2, 0, 0, 3, 2,\n",
              "       1, 3, 2, 2, 1], dtype=int32)"
            ]
          },
          "metadata": {},
          "execution_count": 30
        }
      ]
    },
    {
      "cell_type": "code",
      "metadata": {
        "colab": {
          "base_uri": "https://localhost:8080/",
          "height": 422
        },
        "id": "gLhzcnmaf4KI",
        "outputId": "a59e946d-815a-479c-a520-9945d75181d1"
      },
      "source": [
        "new_df1 = pd.DataFrame(data=sc.inverse_transform(df_std), columns=['Pendapatan','Harapan_hidup'])\n",
        "new_df1['label1_kmeans'] = labelsa\n",
        "new_df1['label2_kmeans'] = labelsb\n",
        "new_df1"
      ],
      "execution_count": null,
      "outputs": [
        {
          "output_type": "execute_result",
          "data": {
            "text/html": [
              "<div>\n",
              "<style scoped>\n",
              "    .dataframe tbody tr th:only-of-type {\n",
              "        vertical-align: middle;\n",
              "    }\n",
              "\n",
              "    .dataframe tbody tr th {\n",
              "        vertical-align: top;\n",
              "    }\n",
              "\n",
              "    .dataframe thead th {\n",
              "        text-align: right;\n",
              "    }\n",
              "</style>\n",
              "<table border=\"1\" class=\"dataframe\">\n",
              "  <thead>\n",
              "    <tr style=\"text-align: right;\">\n",
              "      <th></th>\n",
              "      <th>Pendapatan</th>\n",
              "      <th>Harapan_hidup</th>\n",
              "      <th>label1_kmeans</th>\n",
              "      <th>label2_kmeans</th>\n",
              "    </tr>\n",
              "  </thead>\n",
              "  <tbody>\n",
              "    <tr>\n",
              "      <th>0</th>\n",
              "      <td>1610.0</td>\n",
              "      <td>56.2</td>\n",
              "      <td>1</td>\n",
              "      <td>1</td>\n",
              "    </tr>\n",
              "    <tr>\n",
              "      <th>1</th>\n",
              "      <td>9930.0</td>\n",
              "      <td>76.3</td>\n",
              "      <td>1</td>\n",
              "      <td>3</td>\n",
              "    </tr>\n",
              "    <tr>\n",
              "      <th>2</th>\n",
              "      <td>12900.0</td>\n",
              "      <td>76.5</td>\n",
              "      <td>1</td>\n",
              "      <td>3</td>\n",
              "    </tr>\n",
              "    <tr>\n",
              "      <th>3</th>\n",
              "      <td>5900.0</td>\n",
              "      <td>60.1</td>\n",
              "      <td>1</td>\n",
              "      <td>1</td>\n",
              "    </tr>\n",
              "    <tr>\n",
              "      <th>4</th>\n",
              "      <td>19100.0</td>\n",
              "      <td>76.8</td>\n",
              "      <td>1</td>\n",
              "      <td>3</td>\n",
              "    </tr>\n",
              "    <tr>\n",
              "      <th>...</th>\n",
              "      <td>...</td>\n",
              "      <td>...</td>\n",
              "      <td>...</td>\n",
              "      <td>...</td>\n",
              "    </tr>\n",
              "    <tr>\n",
              "      <th>154</th>\n",
              "      <td>2950.0</td>\n",
              "      <td>63.0</td>\n",
              "      <td>1</td>\n",
              "      <td>1</td>\n",
              "    </tr>\n",
              "    <tr>\n",
              "      <th>155</th>\n",
              "      <td>16500.0</td>\n",
              "      <td>75.4</td>\n",
              "      <td>1</td>\n",
              "      <td>3</td>\n",
              "    </tr>\n",
              "    <tr>\n",
              "      <th>156</th>\n",
              "      <td>4490.0</td>\n",
              "      <td>73.1</td>\n",
              "      <td>1</td>\n",
              "      <td>2</td>\n",
              "    </tr>\n",
              "    <tr>\n",
              "      <th>157</th>\n",
              "      <td>4480.0</td>\n",
              "      <td>67.5</td>\n",
              "      <td>1</td>\n",
              "      <td>2</td>\n",
              "    </tr>\n",
              "    <tr>\n",
              "      <th>158</th>\n",
              "      <td>3280.0</td>\n",
              "      <td>52.0</td>\n",
              "      <td>1</td>\n",
              "      <td>1</td>\n",
              "    </tr>\n",
              "  </tbody>\n",
              "</table>\n",
              "<p>159 rows × 4 columns</p>\n",
              "</div>"
            ],
            "text/plain": [
              "     Pendapatan  Harapan_hidup  label1_kmeans  label2_kmeans\n",
              "0        1610.0           56.2              1              1\n",
              "1        9930.0           76.3              1              3\n",
              "2       12900.0           76.5              1              3\n",
              "3        5900.0           60.1              1              1\n",
              "4       19100.0           76.8              1              3\n",
              "..          ...            ...            ...            ...\n",
              "154      2950.0           63.0              1              1\n",
              "155     16500.0           75.4              1              3\n",
              "156      4490.0           73.1              1              2\n",
              "157      4480.0           67.5              1              2\n",
              "158      3280.0           52.0              1              1\n",
              "\n",
              "[159 rows x 4 columns]"
            ]
          },
          "metadata": {},
          "execution_count": 31
        }
      ]
    },
    {
      "cell_type": "code",
      "metadata": {
        "colab": {
          "base_uri": "https://localhost:8080/",
          "height": 485
        },
        "id": "r80mEDGMgL6E",
        "outputId": "125f75e9-1692-41a8-a6f6-c95b376e7f03"
      },
      "source": [
        "fig=plt.figure(figsize=(12,8))\n",
        "\n",
        "plt.scatter(new_df1['Pendapatan'][new_df1.label1_kmeans == 0], new_df1['Harapan_hidup'][new_df1.label1_kmeans == 0], c='blue', s=100, edgecolor='green')\n",
        "plt.scatter(new_df1['Pendapatan'][new_df1.label1_kmeans == 1], new_df1['Harapan_hidup'][new_df1.label1_kmeans == 1], c='red', s=100, edgecolor='green')\n",
        "\n",
        "plt.scatter(kmeansa.cluster_centers_[:, 0],kmeansa.cluster_centers_[:, 1], c='k', s=300 )\n",
        "\n",
        "plt.show()\n",
        "fig.savefig('Kmeans_Inverse_1.1.png')"
      ],
      "execution_count": null,
      "outputs": [
        {
          "output_type": "display_data",
          "data": {
            "image/png": "[encoded data removed]",
            "text/plain": [
              "<Figure size 864x576 with 1 Axes>"
            ]
          },
          "metadata": {}
        }
      ]
    },
    {
      "cell_type": "code",
      "metadata": {
        "colab": {
          "base_uri": "https://localhost:8080/",
          "height": 518
        },
        "id": "ixx0zuKZh3Mk",
        "outputId": "ea8954fa-c919-4507-ec85-aff9784ca5ec"
      },
      "source": [
        "fig=plt.figure(figsize=(12,8))\n",
        "\n",
        "plt.scatter(new_df1['Pendapatan'][new_df1.label2_kmeans == 0], new_df1['Harapan_hidup'][new_df1.label2_kmeans == 0], c='blue', label='0', s=100, edgecolor='green')\n",
        "plt.scatter(new_df1['Pendapatan'][new_df1.label2_kmeans == 1], new_df1['Harapan_hidup'][new_df1.label2_kmeans == 1], c='red', label='1', s=100, edgecolor='green')\n",
        "plt.scatter(new_df1['Pendapatan'][new_df1.label2_kmeans == 2], new_df1['Harapan_hidup'][new_df1.label2_kmeans == 2], c='green',label = '2', s=100, edgecolor='green')\n",
        "plt.scatter(new_df1['Pendapatan'][new_df1.label2_kmeans == 3], new_df1['Harapan_hidup'][new_df1.label2_kmeans == 3], c='yellow', label = '3', s=100, edgecolor='green')\n",
        "\n",
        "# plt.scatter(kmeansb.cluster_centers_[:, 0],kmeansb.cluster_centers_[:, 1], c='k', s=300 )\n",
        "plt.legend()\n",
        "plt.title('Clustering the Countries')\n",
        "plt.xlabel('Pendapatan')\n",
        "plt.ylabel('Harapan Hidup')\n",
        "plt.show()\n",
        "fig.savefig('Kmeans_Inverse_1.2.png')"
      ],
      "execution_count": null,
      "outputs": [
        {
          "output_type": "display_data",
          "data": {
            "image/png": "[encoded data removed]",
            "text/plain": [
              "<Figure size 864x576 with 1 Axes>"
            ]
          },
          "metadata": {}
        }
      ]
    },
    {
      "cell_type": "markdown",
      "metadata": {
        "id": "RPpsbQEniPFd"
      },
      "source": [
        "Sumarry"
      ]
    },
    {
      "cell_type": "code",
      "metadata": {
        "colab": {
          "base_uri": "https://localhost:8080/",
          "height": 439
        },
        "id": "RzSjxJf0iQvI",
        "outputId": "d5a48d4e-89a5-407a-c015-3f9f78e3af76"
      },
      "source": [
        "df['K_means_labels'] = pd.Series(labelsb).astype('object')\n",
        "df"
      ],
      "execution_count": null,
      "outputs": [
        {
          "output_type": "execute_result",
          "data": {
            "text/html": [
              "<div>\n",
              "<style scoped>\n",
              "    .dataframe tbody tr th:only-of-type {\n",
              "        vertical-align: middle;\n",
              "    }\n",
              "\n",
              "    .dataframe tbody tr th {\n",
              "        vertical-align: top;\n",
              "    }\n",
              "\n",
              "    .dataframe thead th {\n",
              "        text-align: right;\n",
              "    }\n",
              "</style>\n",
              "<table border=\"1\" class=\"dataframe\">\n",
              "  <thead>\n",
              "    <tr style=\"text-align: right;\">\n",
              "      <th></th>\n",
              "      <th>Negara</th>\n",
              "      <th>Kematian_anak</th>\n",
              "      <th>Ekspor</th>\n",
              "      <th>Kesehatan</th>\n",
              "      <th>Impor</th>\n",
              "      <th>Pendapatan</th>\n",
              "      <th>Inflasi</th>\n",
              "      <th>Harapan_hidup</th>\n",
              "      <th>Jumlah_fertiliti</th>\n",
              "      <th>GDPperkapita</th>\n",
              "      <th>K_means_labels</th>\n",
              "    </tr>\n",
              "  </thead>\n",
              "  <tbody>\n",
              "    <tr>\n",
              "      <th>0</th>\n",
              "      <td>Afghanistan</td>\n",
              "      <td>90.2</td>\n",
              "      <td>10.0</td>\n",
              "      <td>7.58</td>\n",
              "      <td>44.9</td>\n",
              "      <td>1610</td>\n",
              "      <td>9.44</td>\n",
              "      <td>56.2</td>\n",
              "      <td>5.82</td>\n",
              "      <td>553</td>\n",
              "      <td>1</td>\n",
              "    </tr>\n",
              "    <tr>\n",
              "      <th>1</th>\n",
              "      <td>Albania</td>\n",
              "      <td>16.6</td>\n",
              "      <td>28.0</td>\n",
              "      <td>6.55</td>\n",
              "      <td>48.6</td>\n",
              "      <td>9930</td>\n",
              "      <td>4.49</td>\n",
              "      <td>76.3</td>\n",
              "      <td>1.65</td>\n",
              "      <td>4090</td>\n",
              "      <td>3</td>\n",
              "    </tr>\n",
              "    <tr>\n",
              "      <th>2</th>\n",
              "      <td>Algeria</td>\n",
              "      <td>27.3</td>\n",
              "      <td>38.4</td>\n",
              "      <td>4.17</td>\n",
              "      <td>31.4</td>\n",
              "      <td>12900</td>\n",
              "      <td>16.10</td>\n",
              "      <td>76.5</td>\n",
              "      <td>2.89</td>\n",
              "      <td>4460</td>\n",
              "      <td>3</td>\n",
              "    </tr>\n",
              "    <tr>\n",
              "      <th>3</th>\n",
              "      <td>Angola</td>\n",
              "      <td>119.0</td>\n",
              "      <td>62.3</td>\n",
              "      <td>2.85</td>\n",
              "      <td>42.9</td>\n",
              "      <td>5900</td>\n",
              "      <td>22.40</td>\n",
              "      <td>60.1</td>\n",
              "      <td>6.16</td>\n",
              "      <td>3530</td>\n",
              "      <td>1</td>\n",
              "    </tr>\n",
              "    <tr>\n",
              "      <th>4</th>\n",
              "      <td>Antigua and Barbuda</td>\n",
              "      <td>10.3</td>\n",
              "      <td>45.5</td>\n",
              "      <td>6.03</td>\n",
              "      <td>58.9</td>\n",
              "      <td>19100</td>\n",
              "      <td>1.44</td>\n",
              "      <td>76.8</td>\n",
              "      <td>2.13</td>\n",
              "      <td>12200</td>\n",
              "      <td>3</td>\n",
              "    </tr>\n",
              "    <tr>\n",
              "      <th>...</th>\n",
              "      <td>...</td>\n",
              "      <td>...</td>\n",
              "      <td>...</td>\n",
              "      <td>...</td>\n",
              "      <td>...</td>\n",
              "      <td>...</td>\n",
              "      <td>...</td>\n",
              "      <td>...</td>\n",
              "      <td>...</td>\n",
              "      <td>...</td>\n",
              "      <td>...</td>\n",
              "    </tr>\n",
              "    <tr>\n",
              "      <th>162</th>\n",
              "      <td>Vanuatu</td>\n",
              "      <td>29.2</td>\n",
              "      <td>46.6</td>\n",
              "      <td>5.25</td>\n",
              "      <td>52.7</td>\n",
              "      <td>2950</td>\n",
              "      <td>2.62</td>\n",
              "      <td>63.0</td>\n",
              "      <td>3.50</td>\n",
              "      <td>2970</td>\n",
              "      <td>NaN</td>\n",
              "    </tr>\n",
              "    <tr>\n",
              "      <th>163</th>\n",
              "      <td>Venezuela</td>\n",
              "      <td>17.1</td>\n",
              "      <td>28.5</td>\n",
              "      <td>4.91</td>\n",
              "      <td>17.6</td>\n",
              "      <td>16500</td>\n",
              "      <td>45.90</td>\n",
              "      <td>75.4</td>\n",
              "      <td>2.47</td>\n",
              "      <td>13500</td>\n",
              "      <td>NaN</td>\n",
              "    </tr>\n",
              "    <tr>\n",
              "      <th>164</th>\n",
              "      <td>Vietnam</td>\n",
              "      <td>23.3</td>\n",
              "      <td>72.0</td>\n",
              "      <td>6.84</td>\n",
              "      <td>80.2</td>\n",
              "      <td>4490</td>\n",
              "      <td>12.10</td>\n",
              "      <td>73.1</td>\n",
              "      <td>1.95</td>\n",
              "      <td>1310</td>\n",
              "      <td>NaN</td>\n",
              "    </tr>\n",
              "    <tr>\n",
              "      <th>165</th>\n",
              "      <td>Yemen</td>\n",
              "      <td>56.3</td>\n",
              "      <td>30.0</td>\n",
              "      <td>5.18</td>\n",
              "      <td>34.4</td>\n",
              "      <td>4480</td>\n",
              "      <td>23.60</td>\n",
              "      <td>67.5</td>\n",
              "      <td>4.67</td>\n",
              "      <td>1310</td>\n",
              "      <td>NaN</td>\n",
              "    </tr>\n",
              "    <tr>\n",
              "      <th>166</th>\n",
              "      <td>Zambia</td>\n",
              "      <td>83.1</td>\n",
              "      <td>37.0</td>\n",
              "      <td>5.89</td>\n",
              "      <td>30.9</td>\n",
              "      <td>3280</td>\n",
              "      <td>14.00</td>\n",
              "      <td>52.0</td>\n",
              "      <td>5.40</td>\n",
              "      <td>1460</td>\n",
              "      <td>NaN</td>\n",
              "    </tr>\n",
              "  </tbody>\n",
              "</table>\n",
              "<p>167 rows × 11 columns</p>\n",
              "</div>"
            ],
            "text/plain": [
              "                  Negara  Kematian_anak  ...  GDPperkapita  K_means_labels\n",
              "0            Afghanistan           90.2  ...           553               1\n",
              "1                Albania           16.6  ...          4090               3\n",
              "2                Algeria           27.3  ...          4460               3\n",
              "3                 Angola          119.0  ...          3530               1\n",
              "4    Antigua and Barbuda           10.3  ...         12200               3\n",
              "..                   ...            ...  ...           ...             ...\n",
              "162              Vanuatu           29.2  ...          2970             NaN\n",
              "163            Venezuela           17.1  ...         13500             NaN\n",
              "164              Vietnam           23.3  ...          1310             NaN\n",
              "165                Yemen           56.3  ...          1310             NaN\n",
              "166               Zambia           83.1  ...          1460             NaN\n",
              "\n",
              "[167 rows x 11 columns]"
            ]
          },
          "metadata": {},
          "execution_count": 58
        }
      ]
    },
    {
      "cell_type": "code",
      "metadata": {
        "colab": {
          "base_uri": "https://localhost:8080/",
          "height": 1000
        },
        "id": "CqPFB5gxkXk_",
        "outputId": "27594444-ccc8-453b-8f98-f9822e3e08b0"
      },
      "source": [
        "top_Bantuan = df[df['K_means_labels']==1]\n",
        "top_Bantuan"
      ],
      "execution_count": null,
      "outputs": [
        {
          "output_type": "execute_result",
          "data": {
            "text/html": [
              "<div>\n",
              "<style scoped>\n",
              "    .dataframe tbody tr th:only-of-type {\n",
              "        vertical-align: middle;\n",
              "    }\n",
              "\n",
              "    .dataframe tbody tr th {\n",
              "        vertical-align: top;\n",
              "    }\n",
              "\n",
              "    .dataframe thead th {\n",
              "        text-align: right;\n",
              "    }\n",
              "</style>\n",
              "<table border=\"1\" class=\"dataframe\">\n",
              "  <thead>\n",
              "    <tr style=\"text-align: right;\">\n",
              "      <th></th>\n",
              "      <th>Negara</th>\n",
              "      <th>Kematian_anak</th>\n",
              "      <th>Ekspor</th>\n",
              "      <th>Kesehatan</th>\n",
              "      <th>Impor</th>\n",
              "      <th>Pendapatan</th>\n",
              "      <th>Inflasi</th>\n",
              "      <th>Harapan_hidup</th>\n",
              "      <th>Jumlah_fertiliti</th>\n",
              "      <th>GDPperkapita</th>\n",
              "      <th>K_means_labels</th>\n",
              "    </tr>\n",
              "  </thead>\n",
              "  <tbody>\n",
              "    <tr>\n",
              "      <th>0</th>\n",
              "      <td>Afghanistan</td>\n",
              "      <td>90.2</td>\n",
              "      <td>10.00</td>\n",
              "      <td>7.58</td>\n",
              "      <td>44.9</td>\n",
              "      <td>1610</td>\n",
              "      <td>9.440</td>\n",
              "      <td>56.2</td>\n",
              "      <td>5.82</td>\n",
              "      <td>553</td>\n",
              "      <td>1</td>\n",
              "    </tr>\n",
              "    <tr>\n",
              "      <th>3</th>\n",
              "      <td>Angola</td>\n",
              "      <td>119.0</td>\n",
              "      <td>62.30</td>\n",
              "      <td>2.85</td>\n",
              "      <td>42.9</td>\n",
              "      <td>5900</td>\n",
              "      <td>22.400</td>\n",
              "      <td>60.1</td>\n",
              "      <td>6.16</td>\n",
              "      <td>3530</td>\n",
              "      <td>1</td>\n",
              "    </tr>\n",
              "    <tr>\n",
              "      <th>17</th>\n",
              "      <td>Benin</td>\n",
              "      <td>111.0</td>\n",
              "      <td>23.80</td>\n",
              "      <td>4.10</td>\n",
              "      <td>37.2</td>\n",
              "      <td>1820</td>\n",
              "      <td>0.885</td>\n",
              "      <td>61.8</td>\n",
              "      <td>5.36</td>\n",
              "      <td>758</td>\n",
              "      <td>1</td>\n",
              "    </tr>\n",
              "    <tr>\n",
              "      <th>21</th>\n",
              "      <td>Botswana</td>\n",
              "      <td>52.5</td>\n",
              "      <td>43.60</td>\n",
              "      <td>8.30</td>\n",
              "      <td>51.3</td>\n",
              "      <td>13300</td>\n",
              "      <td>8.920</td>\n",
              "      <td>57.1</td>\n",
              "      <td>2.88</td>\n",
              "      <td>6350</td>\n",
              "      <td>1</td>\n",
              "    </tr>\n",
              "    <tr>\n",
              "      <th>24</th>\n",
              "      <td>Bulgaria</td>\n",
              "      <td>10.8</td>\n",
              "      <td>50.20</td>\n",
              "      <td>6.87</td>\n",
              "      <td>53.0</td>\n",
              "      <td>15300</td>\n",
              "      <td>1.110</td>\n",
              "      <td>73.9</td>\n",
              "      <td>1.57</td>\n",
              "      <td>6840</td>\n",
              "      <td>1</td>\n",
              "    </tr>\n",
              "    <tr>\n",
              "      <th>25</th>\n",
              "      <td>Burkina Faso</td>\n",
              "      <td>116.0</td>\n",
              "      <td>19.20</td>\n",
              "      <td>6.74</td>\n",
              "      <td>29.6</td>\n",
              "      <td>1430</td>\n",
              "      <td>6.810</td>\n",
              "      <td>57.9</td>\n",
              "      <td>5.87</td>\n",
              "      <td>575</td>\n",
              "      <td>1</td>\n",
              "    </tr>\n",
              "    <tr>\n",
              "      <th>27</th>\n",
              "      <td>Cambodia</td>\n",
              "      <td>44.4</td>\n",
              "      <td>54.10</td>\n",
              "      <td>5.68</td>\n",
              "      <td>59.5</td>\n",
              "      <td>2520</td>\n",
              "      <td>3.120</td>\n",
              "      <td>66.1</td>\n",
              "      <td>2.88</td>\n",
              "      <td>786</td>\n",
              "      <td>1</td>\n",
              "    </tr>\n",
              "    <tr>\n",
              "      <th>30</th>\n",
              "      <td>Cape Verde</td>\n",
              "      <td>26.5</td>\n",
              "      <td>32.70</td>\n",
              "      <td>4.09</td>\n",
              "      <td>61.8</td>\n",
              "      <td>5830</td>\n",
              "      <td>0.505</td>\n",
              "      <td>72.5</td>\n",
              "      <td>2.67</td>\n",
              "      <td>3310</td>\n",
              "      <td>1</td>\n",
              "    </tr>\n",
              "    <tr>\n",
              "      <th>31</th>\n",
              "      <td>Central African Republic</td>\n",
              "      <td>149.0</td>\n",
              "      <td>11.80</td>\n",
              "      <td>3.98</td>\n",
              "      <td>26.5</td>\n",
              "      <td>888</td>\n",
              "      <td>2.010</td>\n",
              "      <td>47.5</td>\n",
              "      <td>5.21</td>\n",
              "      <td>446</td>\n",
              "      <td>1</td>\n",
              "    </tr>\n",
              "    <tr>\n",
              "      <th>36</th>\n",
              "      <td>Comoros</td>\n",
              "      <td>88.2</td>\n",
              "      <td>16.50</td>\n",
              "      <td>4.51</td>\n",
              "      <td>51.7</td>\n",
              "      <td>1410</td>\n",
              "      <td>3.870</td>\n",
              "      <td>65.9</td>\n",
              "      <td>4.75</td>\n",
              "      <td>769</td>\n",
              "      <td>1</td>\n",
              "    </tr>\n",
              "    <tr>\n",
              "      <th>37</th>\n",
              "      <td>Congo, Dem. Rep.</td>\n",
              "      <td>116.0</td>\n",
              "      <td>41.10</td>\n",
              "      <td>7.91</td>\n",
              "      <td>49.6</td>\n",
              "      <td>609</td>\n",
              "      <td>20.800</td>\n",
              "      <td>57.5</td>\n",
              "      <td>6.54</td>\n",
              "      <td>334</td>\n",
              "      <td>1</td>\n",
              "    </tr>\n",
              "    <tr>\n",
              "      <th>39</th>\n",
              "      <td>Costa Rica</td>\n",
              "      <td>10.2</td>\n",
              "      <td>33.20</td>\n",
              "      <td>10.90</td>\n",
              "      <td>35.0</td>\n",
              "      <td>13000</td>\n",
              "      <td>6.570</td>\n",
              "      <td>80.4</td>\n",
              "      <td>1.92</td>\n",
              "      <td>8200</td>\n",
              "      <td>1</td>\n",
              "    </tr>\n",
              "    <tr>\n",
              "      <th>49</th>\n",
              "      <td>Equatorial Guinea</td>\n",
              "      <td>111.0</td>\n",
              "      <td>85.80</td>\n",
              "      <td>4.48</td>\n",
              "      <td>58.9</td>\n",
              "      <td>33700</td>\n",
              "      <td>24.900</td>\n",
              "      <td>60.9</td>\n",
              "      <td>5.21</td>\n",
              "      <td>17100</td>\n",
              "      <td>1</td>\n",
              "    </tr>\n",
              "    <tr>\n",
              "      <th>58</th>\n",
              "      <td>Germany</td>\n",
              "      <td>4.2</td>\n",
              "      <td>42.30</td>\n",
              "      <td>11.60</td>\n",
              "      <td>37.1</td>\n",
              "      <td>40400</td>\n",
              "      <td>0.758</td>\n",
              "      <td>80.1</td>\n",
              "      <td>1.39</td>\n",
              "      <td>41800</td>\n",
              "      <td>1</td>\n",
              "    </tr>\n",
              "    <tr>\n",
              "      <th>62</th>\n",
              "      <td>Guatemala</td>\n",
              "      <td>35.4</td>\n",
              "      <td>25.80</td>\n",
              "      <td>6.85</td>\n",
              "      <td>36.3</td>\n",
              "      <td>6710</td>\n",
              "      <td>5.140</td>\n",
              "      <td>71.3</td>\n",
              "      <td>3.38</td>\n",
              "      <td>2830</td>\n",
              "      <td>1</td>\n",
              "    </tr>\n",
              "    <tr>\n",
              "      <th>63</th>\n",
              "      <td>Guinea</td>\n",
              "      <td>109.0</td>\n",
              "      <td>30.30</td>\n",
              "      <td>4.93</td>\n",
              "      <td>43.2</td>\n",
              "      <td>1190</td>\n",
              "      <td>16.100</td>\n",
              "      <td>58.0</td>\n",
              "      <td>5.34</td>\n",
              "      <td>648</td>\n",
              "      <td>1</td>\n",
              "    </tr>\n",
              "    <tr>\n",
              "      <th>65</th>\n",
              "      <td>Guyana</td>\n",
              "      <td>37.6</td>\n",
              "      <td>51.40</td>\n",
              "      <td>5.38</td>\n",
              "      <td>79.1</td>\n",
              "      <td>5840</td>\n",
              "      <td>5.730</td>\n",
              "      <td>65.5</td>\n",
              "      <td>2.65</td>\n",
              "      <td>3040</td>\n",
              "      <td>1</td>\n",
              "    </tr>\n",
              "    <tr>\n",
              "      <th>79</th>\n",
              "      <td>Kazakhstan</td>\n",
              "      <td>21.5</td>\n",
              "      <td>44.20</td>\n",
              "      <td>4.29</td>\n",
              "      <td>29.9</td>\n",
              "      <td>20100</td>\n",
              "      <td>19.500</td>\n",
              "      <td>68.4</td>\n",
              "      <td>2.60</td>\n",
              "      <td>9070</td>\n",
              "      <td>1</td>\n",
              "    </tr>\n",
              "    <tr>\n",
              "      <th>80</th>\n",
              "      <td>Kenya</td>\n",
              "      <td>62.2</td>\n",
              "      <td>20.70</td>\n",
              "      <td>4.75</td>\n",
              "      <td>33.6</td>\n",
              "      <td>2480</td>\n",
              "      <td>2.090</td>\n",
              "      <td>62.8</td>\n",
              "      <td>4.37</td>\n",
              "      <td>967</td>\n",
              "      <td>1</td>\n",
              "    </tr>\n",
              "    <tr>\n",
              "      <th>85</th>\n",
              "      <td>Latvia</td>\n",
              "      <td>7.8</td>\n",
              "      <td>53.70</td>\n",
              "      <td>6.68</td>\n",
              "      <td>55.1</td>\n",
              "      <td>18300</td>\n",
              "      <td>-0.812</td>\n",
              "      <td>73.1</td>\n",
              "      <td>1.36</td>\n",
              "      <td>11300</td>\n",
              "      <td>1</td>\n",
              "    </tr>\n",
              "    <tr>\n",
              "      <th>86</th>\n",
              "      <td>Lebanon</td>\n",
              "      <td>10.3</td>\n",
              "      <td>35.80</td>\n",
              "      <td>7.03</td>\n",
              "      <td>60.2</td>\n",
              "      <td>16300</td>\n",
              "      <td>0.238</td>\n",
              "      <td>79.8</td>\n",
              "      <td>1.61</td>\n",
              "      <td>8860</td>\n",
              "      <td>1</td>\n",
              "    </tr>\n",
              "    <tr>\n",
              "      <th>90</th>\n",
              "      <td>Lithuania</td>\n",
              "      <td>6.1</td>\n",
              "      <td>65.30</td>\n",
              "      <td>7.04</td>\n",
              "      <td>67.2</td>\n",
              "      <td>21100</td>\n",
              "      <td>2.380</td>\n",
              "      <td>73.2</td>\n",
              "      <td>1.50</td>\n",
              "      <td>12000</td>\n",
              "      <td>1</td>\n",
              "    </tr>\n",
              "    <tr>\n",
              "      <th>91</th>\n",
              "      <td>Luxembourg</td>\n",
              "      <td>2.8</td>\n",
              "      <td>175.00</td>\n",
              "      <td>7.77</td>\n",
              "      <td>142.0</td>\n",
              "      <td>91700</td>\n",
              "      <td>3.620</td>\n",
              "      <td>81.3</td>\n",
              "      <td>1.63</td>\n",
              "      <td>105000</td>\n",
              "      <td>1</td>\n",
              "    </tr>\n",
              "    <tr>\n",
              "      <th>94</th>\n",
              "      <td>Malawi</td>\n",
              "      <td>90.5</td>\n",
              "      <td>22.80</td>\n",
              "      <td>6.59</td>\n",
              "      <td>34.9</td>\n",
              "      <td>1030</td>\n",
              "      <td>12.100</td>\n",
              "      <td>53.1</td>\n",
              "      <td>5.31</td>\n",
              "      <td>459</td>\n",
              "      <td>1</td>\n",
              "    </tr>\n",
              "    <tr>\n",
              "      <th>103</th>\n",
              "      <td>Mongolia</td>\n",
              "      <td>26.1</td>\n",
              "      <td>46.70</td>\n",
              "      <td>5.44</td>\n",
              "      <td>56.7</td>\n",
              "      <td>7710</td>\n",
              "      <td>39.200</td>\n",
              "      <td>66.2</td>\n",
              "      <td>2.64</td>\n",
              "      <td>2650</td>\n",
              "      <td>1</td>\n",
              "    </tr>\n",
              "    <tr>\n",
              "      <th>105</th>\n",
              "      <td>Morocco</td>\n",
              "      <td>33.5</td>\n",
              "      <td>32.20</td>\n",
              "      <td>5.20</td>\n",
              "      <td>43.0</td>\n",
              "      <td>6440</td>\n",
              "      <td>0.976</td>\n",
              "      <td>73.5</td>\n",
              "      <td>2.58</td>\n",
              "      <td>2830</td>\n",
              "      <td>1</td>\n",
              "    </tr>\n",
              "    <tr>\n",
              "      <th>109</th>\n",
              "      <td>Nepal</td>\n",
              "      <td>47.0</td>\n",
              "      <td>9.58</td>\n",
              "      <td>5.25</td>\n",
              "      <td>36.4</td>\n",
              "      <td>1990</td>\n",
              "      <td>15.100</td>\n",
              "      <td>68.3</td>\n",
              "      <td>2.61</td>\n",
              "      <td>592</td>\n",
              "      <td>1</td>\n",
              "    </tr>\n",
              "    <tr>\n",
              "      <th>110</th>\n",
              "      <td>Netherlands</td>\n",
              "      <td>4.5</td>\n",
              "      <td>72.00</td>\n",
              "      <td>11.90</td>\n",
              "      <td>63.6</td>\n",
              "      <td>45500</td>\n",
              "      <td>0.848</td>\n",
              "      <td>80.7</td>\n",
              "      <td>1.79</td>\n",
              "      <td>50300</td>\n",
              "      <td>1</td>\n",
              "    </tr>\n",
              "    <tr>\n",
              "      <th>127</th>\n",
              "      <td>Samoa</td>\n",
              "      <td>18.9</td>\n",
              "      <td>29.20</td>\n",
              "      <td>6.47</td>\n",
              "      <td>53.1</td>\n",
              "      <td>5400</td>\n",
              "      <td>1.720</td>\n",
              "      <td>71.5</td>\n",
              "      <td>4.34</td>\n",
              "      <td>3450</td>\n",
              "      <td>1</td>\n",
              "    </tr>\n",
              "    <tr>\n",
              "      <th>130</th>\n",
              "      <td>Serbia</td>\n",
              "      <td>7.6</td>\n",
              "      <td>32.90</td>\n",
              "      <td>10.40</td>\n",
              "      <td>47.9</td>\n",
              "      <td>12700</td>\n",
              "      <td>5.880</td>\n",
              "      <td>74.7</td>\n",
              "      <td>1.40</td>\n",
              "      <td>5410</td>\n",
              "      <td>1</td>\n",
              "    </tr>\n",
              "    <tr>\n",
              "      <th>131</th>\n",
              "      <td>Seychelles</td>\n",
              "      <td>14.4</td>\n",
              "      <td>93.80</td>\n",
              "      <td>3.40</td>\n",
              "      <td>108.0</td>\n",
              "      <td>20400</td>\n",
              "      <td>-4.210</td>\n",
              "      <td>73.4</td>\n",
              "      <td>2.17</td>\n",
              "      <td>10800</td>\n",
              "      <td>1</td>\n",
              "    </tr>\n",
              "    <tr>\n",
              "      <th>140</th>\n",
              "      <td>Sri Lanka</td>\n",
              "      <td>11.2</td>\n",
              "      <td>19.60</td>\n",
              "      <td>2.94</td>\n",
              "      <td>26.8</td>\n",
              "      <td>8560</td>\n",
              "      <td>22.800</td>\n",
              "      <td>74.4</td>\n",
              "      <td>2.20</td>\n",
              "      <td>2810</td>\n",
              "      <td>1</td>\n",
              "    </tr>\n",
              "    <tr>\n",
              "      <th>143</th>\n",
              "      <td>Suriname</td>\n",
              "      <td>24.1</td>\n",
              "      <td>52.50</td>\n",
              "      <td>7.01</td>\n",
              "      <td>38.4</td>\n",
              "      <td>14200</td>\n",
              "      <td>7.200</td>\n",
              "      <td>70.3</td>\n",
              "      <td>2.52</td>\n",
              "      <td>8300</td>\n",
              "      <td>1</td>\n",
              "    </tr>\n",
              "    <tr>\n",
              "      <th>148</th>\n",
              "      <td>Thailand</td>\n",
              "      <td>14.9</td>\n",
              "      <td>66.50</td>\n",
              "      <td>3.88</td>\n",
              "      <td>60.8</td>\n",
              "      <td>13500</td>\n",
              "      <td>4.080</td>\n",
              "      <td>76.6</td>\n",
              "      <td>1.55</td>\n",
              "      <td>5080</td>\n",
              "      <td>1</td>\n",
              "    </tr>\n",
              "    <tr>\n",
              "      <th>154</th>\n",
              "      <td>Turkmenistan</td>\n",
              "      <td>62.0</td>\n",
              "      <td>76.30</td>\n",
              "      <td>2.50</td>\n",
              "      <td>44.5</td>\n",
              "      <td>9940</td>\n",
              "      <td>2.310</td>\n",
              "      <td>67.9</td>\n",
              "      <td>2.83</td>\n",
              "      <td>4440</td>\n",
              "      <td>1</td>\n",
              "    </tr>\n",
              "    <tr>\n",
              "      <th>158</th>\n",
              "      <td>United Kingdom</td>\n",
              "      <td>5.2</td>\n",
              "      <td>28.20</td>\n",
              "      <td>9.64</td>\n",
              "      <td>30.8</td>\n",
              "      <td>36200</td>\n",
              "      <td>1.570</td>\n",
              "      <td>80.3</td>\n",
              "      <td>1.92</td>\n",
              "      <td>38900</td>\n",
              "      <td>1</td>\n",
              "    </tr>\n",
              "  </tbody>\n",
              "</table>\n",
              "</div>"
            ],
            "text/plain": [
              "                       Negara  Kematian_anak  ...  GDPperkapita  K_means_labels\n",
              "0                 Afghanistan           90.2  ...           553               1\n",
              "3                      Angola          119.0  ...          3530               1\n",
              "17                      Benin          111.0  ...           758               1\n",
              "21                   Botswana           52.5  ...          6350               1\n",
              "24                   Bulgaria           10.8  ...          6840               1\n",
              "25               Burkina Faso          116.0  ...           575               1\n",
              "27                   Cambodia           44.4  ...           786               1\n",
              "30                 Cape Verde           26.5  ...          3310               1\n",
              "31   Central African Republic          149.0  ...           446               1\n",
              "36                    Comoros           88.2  ...           769               1\n",
              "37           Congo, Dem. Rep.          116.0  ...           334               1\n",
              "39                 Costa Rica           10.2  ...          8200               1\n",
              "49          Equatorial Guinea          111.0  ...         17100               1\n",
              "58                    Germany            4.2  ...         41800               1\n",
              "62                  Guatemala           35.4  ...          2830               1\n",
              "63                     Guinea          109.0  ...           648               1\n",
              "65                     Guyana           37.6  ...          3040               1\n",
              "79                 Kazakhstan           21.5  ...          9070               1\n",
              "80                      Kenya           62.2  ...           967               1\n",
              "85                     Latvia            7.8  ...         11300               1\n",
              "86                    Lebanon           10.3  ...          8860               1\n",
              "90                  Lithuania            6.1  ...         12000               1\n",
              "91                 Luxembourg            2.8  ...        105000               1\n",
              "94                     Malawi           90.5  ...           459               1\n",
              "103                  Mongolia           26.1  ...          2650               1\n",
              "105                   Morocco           33.5  ...          2830               1\n",
              "109                     Nepal           47.0  ...           592               1\n",
              "110               Netherlands            4.5  ...         50300               1\n",
              "127                     Samoa           18.9  ...          3450               1\n",
              "130                    Serbia            7.6  ...          5410               1\n",
              "131                Seychelles           14.4  ...         10800               1\n",
              "140                 Sri Lanka           11.2  ...          2810               1\n",
              "143                  Suriname           24.1  ...          8300               1\n",
              "148                  Thailand           14.9  ...          5080               1\n",
              "154              Turkmenistan           62.0  ...          4440               1\n",
              "158            United Kingdom            5.2  ...         38900               1\n",
              "\n",
              "[36 rows x 11 columns]"
            ]
          },
          "metadata": {},
          "execution_count": 59
        }
      ]
    },
    {
      "cell_type": "code",
      "metadata": {
        "colab": {
          "base_uri": "https://localhost:8080/",
          "height": 414
        },
        "id": "igNO4LPRmDlz",
        "outputId": "95c9af56-992f-4d77-e922-af3faddfd139"
      },
      "source": [
        "top_Bantuan.sort_values(by=['Pendapatan'],ascending=True)[:10]"
      ],
      "execution_count": null,
      "outputs": [
        {
          "output_type": "execute_result",
          "data": {
            "text/html": [
              "<div>\n",
              "<style scoped>\n",
              "    .dataframe tbody tr th:only-of-type {\n",
              "        vertical-align: middle;\n",
              "    }\n",
              "\n",
              "    .dataframe tbody tr th {\n",
              "        vertical-align: top;\n",
              "    }\n",
              "\n",
              "    .dataframe thead th {\n",
              "        text-align: right;\n",
              "    }\n",
              "</style>\n",
              "<table border=\"1\" class=\"dataframe\">\n",
              "  <thead>\n",
              "    <tr style=\"text-align: right;\">\n",
              "      <th></th>\n",
              "      <th>index</th>\n",
              "      <th>Negara</th>\n",
              "      <th>Kematian_anak</th>\n",
              "      <th>Ekspor</th>\n",
              "      <th>Kesehatan</th>\n",
              "      <th>Impor</th>\n",
              "      <th>Pendapatan</th>\n",
              "      <th>Inflasi</th>\n",
              "      <th>Harapan_hidup</th>\n",
              "      <th>Jumlah_fertiliti</th>\n",
              "      <th>GDPperkapita</th>\n",
              "      <th>K_means_labels</th>\n",
              "    </tr>\n",
              "  </thead>\n",
              "  <tbody>\n",
              "    <tr>\n",
              "      <th>0</th>\n",
              "      <td>37</td>\n",
              "      <td>Congo, Dem. Rep.</td>\n",
              "      <td>116.0</td>\n",
              "      <td>41.10</td>\n",
              "      <td>7.91</td>\n",
              "      <td>49.6</td>\n",
              "      <td>609</td>\n",
              "      <td>20.800</td>\n",
              "      <td>57.5</td>\n",
              "      <td>6.54</td>\n",
              "      <td>334</td>\n",
              "      <td>1</td>\n",
              "    </tr>\n",
              "    <tr>\n",
              "      <th>1</th>\n",
              "      <td>31</td>\n",
              "      <td>Central African Republic</td>\n",
              "      <td>149.0</td>\n",
              "      <td>11.80</td>\n",
              "      <td>3.98</td>\n",
              "      <td>26.5</td>\n",
              "      <td>888</td>\n",
              "      <td>2.010</td>\n",
              "      <td>47.5</td>\n",
              "      <td>5.21</td>\n",
              "      <td>446</td>\n",
              "      <td>1</td>\n",
              "    </tr>\n",
              "    <tr>\n",
              "      <th>2</th>\n",
              "      <td>94</td>\n",
              "      <td>Malawi</td>\n",
              "      <td>90.5</td>\n",
              "      <td>22.80</td>\n",
              "      <td>6.59</td>\n",
              "      <td>34.9</td>\n",
              "      <td>1030</td>\n",
              "      <td>12.100</td>\n",
              "      <td>53.1</td>\n",
              "      <td>5.31</td>\n",
              "      <td>459</td>\n",
              "      <td>1</td>\n",
              "    </tr>\n",
              "    <tr>\n",
              "      <th>3</th>\n",
              "      <td>63</td>\n",
              "      <td>Guinea</td>\n",
              "      <td>109.0</td>\n",
              "      <td>30.30</td>\n",
              "      <td>4.93</td>\n",
              "      <td>43.2</td>\n",
              "      <td>1190</td>\n",
              "      <td>16.100</td>\n",
              "      <td>58.0</td>\n",
              "      <td>5.34</td>\n",
              "      <td>648</td>\n",
              "      <td>1</td>\n",
              "    </tr>\n",
              "    <tr>\n",
              "      <th>4</th>\n",
              "      <td>36</td>\n",
              "      <td>Comoros</td>\n",
              "      <td>88.2</td>\n",
              "      <td>16.50</td>\n",
              "      <td>4.51</td>\n",
              "      <td>51.7</td>\n",
              "      <td>1410</td>\n",
              "      <td>3.870</td>\n",
              "      <td>65.9</td>\n",
              "      <td>4.75</td>\n",
              "      <td>769</td>\n",
              "      <td>1</td>\n",
              "    </tr>\n",
              "    <tr>\n",
              "      <th>5</th>\n",
              "      <td>25</td>\n",
              "      <td>Burkina Faso</td>\n",
              "      <td>116.0</td>\n",
              "      <td>19.20</td>\n",
              "      <td>6.74</td>\n",
              "      <td>29.6</td>\n",
              "      <td>1430</td>\n",
              "      <td>6.810</td>\n",
              "      <td>57.9</td>\n",
              "      <td>5.87</td>\n",
              "      <td>575</td>\n",
              "      <td>1</td>\n",
              "    </tr>\n",
              "    <tr>\n",
              "      <th>6</th>\n",
              "      <td>0</td>\n",
              "      <td>Afghanistan</td>\n",
              "      <td>90.2</td>\n",
              "      <td>10.00</td>\n",
              "      <td>7.58</td>\n",
              "      <td>44.9</td>\n",
              "      <td>1610</td>\n",
              "      <td>9.440</td>\n",
              "      <td>56.2</td>\n",
              "      <td>5.82</td>\n",
              "      <td>553</td>\n",
              "      <td>1</td>\n",
              "    </tr>\n",
              "    <tr>\n",
              "      <th>7</th>\n",
              "      <td>17</td>\n",
              "      <td>Benin</td>\n",
              "      <td>111.0</td>\n",
              "      <td>23.80</td>\n",
              "      <td>4.10</td>\n",
              "      <td>37.2</td>\n",
              "      <td>1820</td>\n",
              "      <td>0.885</td>\n",
              "      <td>61.8</td>\n",
              "      <td>5.36</td>\n",
              "      <td>758</td>\n",
              "      <td>1</td>\n",
              "    </tr>\n",
              "    <tr>\n",
              "      <th>8</th>\n",
              "      <td>109</td>\n",
              "      <td>Nepal</td>\n",
              "      <td>47.0</td>\n",
              "      <td>9.58</td>\n",
              "      <td>5.25</td>\n",
              "      <td>36.4</td>\n",
              "      <td>1990</td>\n",
              "      <td>15.100</td>\n",
              "      <td>68.3</td>\n",
              "      <td>2.61</td>\n",
              "      <td>592</td>\n",
              "      <td>1</td>\n",
              "    </tr>\n",
              "    <tr>\n",
              "      <th>9</th>\n",
              "      <td>80</td>\n",
              "      <td>Kenya</td>\n",
              "      <td>62.2</td>\n",
              "      <td>20.70</td>\n",
              "      <td>4.75</td>\n",
              "      <td>33.6</td>\n",
              "      <td>2480</td>\n",
              "      <td>2.090</td>\n",
              "      <td>62.8</td>\n",
              "      <td>4.37</td>\n",
              "      <td>967</td>\n",
              "      <td>1</td>\n",
              "    </tr>\n",
              "  </tbody>\n",
              "</table>\n",
              "</div>"
            ],
            "text/plain": [
              "   index                    Negara  ...  GDPperkapita  K_means_labels\n",
              "0     37          Congo, Dem. Rep.  ...           334               1\n",
              "1     31  Central African Republic  ...           446               1\n",
              "2     94                    Malawi  ...           459               1\n",
              "3     63                    Guinea  ...           648               1\n",
              "4     36                   Comoros  ...           769               1\n",
              "5     25              Burkina Faso  ...           575               1\n",
              "6      0               Afghanistan  ...           553               1\n",
              "7     17                     Benin  ...           758               1\n",
              "8    109                     Nepal  ...           592               1\n",
              "9     80                     Kenya  ...           967               1\n",
              "\n",
              "[10 rows x 12 columns]"
            ]
          },
          "metadata": {},
          "execution_count": 64
        }
      ]
    }
  ]
}